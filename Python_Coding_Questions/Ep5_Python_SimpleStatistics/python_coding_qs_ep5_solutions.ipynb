{
 "cells": [
  {
   "cell_type": "markdown",
   "id": "7451ebe8",
   "metadata": {},
   "source": [
    "# Simple Statistical Answers\n",
    "\n",
    "Given the following datasets, create a function/class to solve the following:\n",
    "\n",
    "Problem 1:\n",
    "- Compute the mean, median, and standard deviation for each dataset.\n",
    "\n",
    "Problem 2:\n",
    "- Compute a new dataset by subtracting the mean from the original dataset, then compute the standard deviation for the new dataset.\n",
    "\n",
    "Problem 3:\n",
    "- Compute the mean and standard deviation of the new data set formed by subtracting the original mean from each observation and then dividing by the original standard deviation.\n",
    "\n",
    "Datasets:\n",
    "- Dataset 1: `A=[0,1,2,3,4,5,6,7,8,9]`\n",
    "- Dataset 2: `B=[0,0,0,12,7,18,47,25,0,13]`\n",
    "- Dataset 3: `np.random.randint(0, 200, size = 100)`\n",
    "\n",
    "**NO LIBRARIES SHOULD BE USED TO SOLVE THESE QUESTIONS!**"
   ]
  },
  {
   "cell_type": "code",
   "execution_count": 54,
   "id": "50dff57d",
   "metadata": {},
   "outputs": [],
   "source": [
    "import numpy as np # used for testing and creating our random dataset"
   ]
  },
  {
   "cell_type": "code",
   "execution_count": 56,
   "id": "4b42345a",
   "metadata": {},
   "outputs": [],
   "source": [
    "# Datasets\n",
    "A=[0,1,2,3,4,5,6,7,8,9]\n",
    "B=[0,0,0,12,7,18,47,25,0,13]\n",
    "C=np.random.randint(0, 200, size = 100)"
   ]
  },
  {
   "cell_type": "code",
   "execution_count": 55,
   "id": "b371799e",
   "metadata": {},
   "outputs": [],
   "source": [
    "class SimpleStatistic:\n",
    "    def __init__(self, dataset: list):\n",
    "        self.arr = dataset\n",
    "        self.len_arr = len(dataset)\n",
    "    \n",
    "    def mean(self):\n",
    "        total = 0\n",
    "        if self.len_arr > 0:\n",
    "            for i in self.arr:\n",
    "                total += i\n",
    "            return total/self.len_arr\n",
    "        return f'Array {self.arr} is empty', 0\n",
    "    \n",
    "    def median(self):\n",
    "        if self.len_arr > 0:\n",
    "            if self.len_arr % 2 == 0:\n",
    "                return (self.arr[self.len_arr//2] + self.arr[self.len_arr//2 - 1])/2\n",
    "            else:\n",
    "                return self.arr[self.len_arr//2]\n",
    "        return f'Array {self.arr} is empty', 0\n",
    "    def var(self):\n",
    "        return sum((x - self.mean()) ** 2 for x in self.arr) / (self.len_arr - 0)\n",
    "    def std(self):\n",
    "        return round(self.var()**.5, 2)\n",
    "    \n",
    "    \n",
    "        "
   ]
  },
  {
   "cell_type": "markdown",
   "id": "c46eee0d",
   "metadata": {},
   "source": [
    "**Testing**"
   ]
  },
  {
   "cell_type": "code",
   "execution_count": 57,
   "id": "e12480e0",
   "metadata": {
    "scrolled": true
   },
   "outputs": [
    {
     "name": "stdout",
     "output_type": "stream",
     "text": [
      "4.5\n",
      "4.5\n",
      "2.87\n"
     ]
    }
   ],
   "source": [
    "ss = SimpleStatistic(A)\n",
    "print(ss.mean())\n",
    "print(ss.median())\n",
    "print(ss.std())"
   ]
  },
  {
   "cell_type": "markdown",
   "id": "2b0c97f7",
   "metadata": {},
   "source": [
    "Using `assert` to test if the calculations above result the same using `numpy.mean(), numpy.median(), numpy.std()`"
   ]
  },
  {
   "cell_type": "code",
   "execution_count": 58,
   "id": "707aaa76",
   "metadata": {},
   "outputs": [],
   "source": [
    "assert ss.mean() == np.mean(A), 'NO'"
   ]
  },
  {
   "cell_type": "code",
   "execution_count": 59,
   "id": "a9040600",
   "metadata": {},
   "outputs": [],
   "source": [
    "assert ss.median() == np.median(A), 'NO'"
   ]
  },
  {
   "cell_type": "code",
   "execution_count": 61,
   "id": "70c8a03c",
   "metadata": {},
   "outputs": [],
   "source": [
    "assert ss.std() == round(np.std(A), 2), 'NO'"
   ]
  },
  {
   "cell_type": "markdown",
   "id": "5e0c98a3",
   "metadata": {},
   "source": [
    "**Problem 1**\n",
    "- Compute the mean, median, and standard deviation for each dataset."
   ]
  },
  {
   "cell_type": "code",
   "execution_count": 62,
   "id": "e4dddc27",
   "metadata": {},
   "outputs": [],
   "source": [
    "def simple_calc (arr: list) -> list:\n",
    "    stat = SimpleStatistic(arr)\n",
    "    return [stat.mean(), stat.median(), stat.std()]"
   ]
  },
  {
   "cell_type": "markdown",
   "id": "0c2198ee",
   "metadata": {},
   "source": [
    "**Problem 2**\n",
    "- Compute a new dataset by subtracting the mean from the original dataset, then compute the standard deviation for the new dataset."
   ]
  },
  {
   "cell_type": "code",
   "execution_count": 63,
   "id": "594d982c",
   "metadata": {},
   "outputs": [],
   "source": [
    "def std_new_ds(arr: list) -> int:\n",
    "    stat = SimpleStatistic(arr)\n",
    "    \n",
    "    new_ds = [i - stat.mean() for i in arr]\n",
    "    \n",
    "    new_stat = SimpleStatistic(new_ds)\n",
    "    return new_stat.std()"
   ]
  },
  {
   "cell_type": "markdown",
   "id": "db4a1207",
   "metadata": {},
   "source": [
    "**Problem 3**\n",
    "- Compute the mean and standard deviation of the new data set formed by subtracting the original mean from each observation and then dividing by the original standard deviation."
   ]
  },
  {
   "cell_type": "code",
   "execution_count": 67,
   "id": "bf313627",
   "metadata": {},
   "outputs": [],
   "source": [
    "def mean_std_from_new_ds(arr: list) -> list:\n",
    "    stat = SimpleStatistic(arr)\n",
    "    \n",
    "    new_ds = [i - stat.mean() for i in arr]\n",
    "    ds = [i/stat.std() for i in new_ds]\n",
    "    \n",
    "    final_stat = SimpleStatistic(ds)\n",
    "    return [final_stat.mean(), final_stat.std()]"
   ]
  },
  {
   "cell_type": "markdown",
   "id": "525fb05c",
   "metadata": {},
   "source": [
    "**Putting our functions together in `MAIN()`**"
   ]
  },
  {
   "cell_type": "code",
   "execution_count": 68,
   "id": "eda122c2",
   "metadata": {},
   "outputs": [],
   "source": [
    "def main():\n",
    "    problem1 = {'Dataset A:': simple_calc(A),'Dataset B:': simple_calc(B),'Dataset C:': simple_calc(C)}\n",
    "    problem2 = {'Dataset A:': std_new_ds(A),'Dataset B:': std_new_ds(B),'Dataset C:': std_new_ds(C)}\n",
    "    problem3 = {'Dataset A:': mean_std_from_new_ds(A),'Dataset B:': mean_std_from_new_ds(B),'Dataset C:': mean_std_from_new_ds(C)}\n",
    "    print(problem1)\n",
    "    print(problem2)\n",
    "    print(problem3)"
   ]
  },
  {
   "cell_type": "code",
   "execution_count": 69,
   "id": "3fa6a54d",
   "metadata": {},
   "outputs": [
    {
     "name": "stdout",
     "output_type": "stream",
     "text": [
      "{'Dataset A:': [4.5, 4.5, 2.87], 'Dataset B:': [12.2, 12.5, 14.25], 'Dataset C:': [101.84, 79.0, 57.36]}\n",
      "{'Dataset A:': 2.87, 'Dataset B:': 14.25, 'Dataset C:': 57.36}\n",
      "{'Dataset A:': [-2.2204460492503132e-17, 1.0], 'Dataset B:': [-2.3592239273284576e-17, 1.0], 'Dataset C:': [-4.9960036108132046e-17, 1.0]}\n"
     ]
    }
   ],
   "source": [
    "if __name__ == \"__main__\":\n",
    "    main()"
   ]
  },
  {
   "cell_type": "code",
   "execution_count": null,
   "id": "15148783",
   "metadata": {},
   "outputs": [],
   "source": []
  }
 ],
 "metadata": {
  "kernelspec": {
   "display_name": "Python 3",
   "language": "python",
   "name": "python3"
  },
  "language_info": {
   "codemirror_mode": {
    "name": "ipython",
    "version": 3
   },
   "file_extension": ".py",
   "mimetype": "text/x-python",
   "name": "python",
   "nbconvert_exporter": "python",
   "pygments_lexer": "ipython3",
   "version": "3.8.5"
  }
 },
 "nbformat": 4,
 "nbformat_minor": 5
}
