{
 "cells": [
  {
   "cell_type": "markdown",
   "id": "94c99aac",
   "metadata": {},
   "source": [
    "# Simple Statistical Answers\n",
    "\n",
    "Given the following datasets, create a function/class to solve the following:\n",
    "\n",
    "Problem 1:\n",
    "- Compute the mean, median, and standard deviation for each dataset.\n",
    "\n",
    "Problem 2:\n",
    "- Compute a new dataset by subtracting the mean from the original dataset, then compute the standard deviation for the new dataset.\n",
    "\n",
    "Problem 3:\n",
    "- Compute the mean and standard deviation of the new data set formed by subtracting the original mean from each observation and then dividing by the original standard deviation.\n",
    "\n",
    "Datasets:\n",
    "- Dataset 1: `A=[0,1,2,3,4,5,6,7,8,9]`\n",
    "- Dataset 2: `B=[0,0,0,12,7,18,47,25,0,13]`\n",
    "- Dataset 3: `np.random.randint(0, 200, size = 100)`\n",
    "\n",
    "**NO LIBRARIES SHOULD BE USED TO SOLVE THESE QUESTIONS!**"
   ]
  },
  {
   "cell_type": "code",
   "execution_count": 1,
   "id": "ecbdd9fe",
   "metadata": {},
   "outputs": [],
   "source": [
    "import numpy as np # used for testing and creating our random dataset"
   ]
  },
  {
   "cell_type": "code",
   "execution_count": 30,
   "id": "a6e0e4c7",
   "metadata": {},
   "outputs": [],
   "source": [
    "# Datasets\n",
    "A=[0,1,2,3,4,5,6,7,8,9]\n",
    "B=[0,0,0,12,7,18,47,25,0,13]\n",
    "C=np.random.randint(0, 200, size = 100)"
   ]
  },
  {
   "cell_type": "code",
   "execution_count": 18,
   "id": "d3abef78",
   "metadata": {},
   "outputs": [],
   "source": [
    "class SimpleStatistic:\n",
    "    def __init__(self, dataset: list):\n",
    "        pass\n",
    "    \n",
    "    def mean(self):\n",
    "        pass\n",
    "    \n",
    "    def median(self):\n",
    "        pass\n",
    "    def var(self):\n",
    "        pass\n",
    "    def std(self):\n",
    "        pass\n",
    "    \n",
    "    \n",
    "        "
   ]
  },
  {
   "cell_type": "markdown",
   "id": "45f6f66c",
   "metadata": {},
   "source": [
    "**Testing**"
   ]
  },
  {
   "cell_type": "code",
   "execution_count": 26,
   "id": "779a8219",
   "metadata": {},
   "outputs": [
    {
     "name": "stdout",
     "output_type": "stream",
     "text": [
      "4.5\n",
      "4.5\n",
      "2.87\n",
      "4.5\n",
      "2.87\n"
     ]
    }
   ],
   "source": [
    "ss = SimpleStatistic(A)\n",
    "print(ss.mean())\n",
    "print(ss.median())\n",
    "print(ss.std())\n",
    "print(np.median(A))\n",
    "print(round(np.std(A), 2))"
   ]
  },
  {
   "cell_type": "markdown",
   "id": "867f289d",
   "metadata": {},
   "source": [
    "Using `assert` to test if the calculations above result the same using `numpy.mean(), numpy.median(), numpy.std()`"
   ]
  },
  {
   "cell_type": "code",
   "execution_count": 14,
   "id": "c1510a31",
   "metadata": {},
   "outputs": [],
   "source": [
    "assert ss.mean() == np.mean(A), 'NO'"
   ]
  },
  {
   "cell_type": "code",
   "execution_count": 15,
   "id": "5171e23a",
   "metadata": {},
   "outputs": [],
   "source": [
    "assert ss.median() == np.median(A), 'NO'"
   ]
  },
  {
   "cell_type": "code",
   "execution_count": 24,
   "id": "046d45eb",
   "metadata": {},
   "outputs": [],
   "source": [
    "assert ss.std() == round(np.std(A), 2), 'NO'"
   ]
  },
  {
   "cell_type": "markdown",
   "id": "d34f9132",
   "metadata": {},
   "source": [
    "**Problem 1**\n",
    "- Compute the mean, median, and standard deviation for each dataset."
   ]
  },
  {
   "cell_type": "code",
   "execution_count": 27,
   "id": "672fcbda",
   "metadata": {},
   "outputs": [],
   "source": [
    "def simple_calc (arr: list) -> list:\n",
    "    pass"
   ]
  },
  {
   "cell_type": "markdown",
   "id": "7c469154",
   "metadata": {},
   "source": [
    "**Problem 2**\n",
    "- Compute a new dataset by subtracting the mean from the original dataset, then compute the standard deviation for the new dataset."
   ]
  },
  {
   "cell_type": "code",
   "execution_count": 33,
   "id": "80924b37",
   "metadata": {},
   "outputs": [],
   "source": [
    "def std_new_ds(arr: list) -> int:\n",
    "    pass"
   ]
  },
  {
   "cell_type": "markdown",
   "id": "eb9528ff",
   "metadata": {},
   "source": [
    "**Problem 3**\n",
    "- Compute the mean and standard deviation of the new data set formed by subtracting the original mean from each observation and then dividing by the original standard deviation."
   ]
  },
  {
   "cell_type": "code",
   "execution_count": 36,
   "id": "c7a9634c",
   "metadata": {},
   "outputs": [],
   "source": [
    "def mean_std_from_new_ds(arr: list) -> list:\n",
    "    pass"
   ]
  },
  {
   "cell_type": "markdown",
   "id": "fc42ae02",
   "metadata": {},
   "source": [
    "**Putting our functions together in `MAIN()`**"
   ]
  },
  {
   "cell_type": "code",
   "execution_count": 37,
   "id": "cde6ad6f",
   "metadata": {},
   "outputs": [],
   "source": [
    "def main():\n",
    "    problem1 = {'Dataset A:': simple_calc(A),'Dataset B:': simple_calc(B),'Dataset C:': simple_calc(C)}\n",
    "    problem2 = {'Dataset A:': std_new_ds(A),'Dataset B:': std_new_ds(B),'Dataset C:': std_new_ds(C)}\n",
    "    problem3 = {'Dataset A:': mean_std_from_new_ds(A),'Dataset B:': mean_std_from_new_ds(B),'Dataset C:': mean_std_from_new_ds(C)}\n",
    "    print(problem1)\n",
    "    print(problem2)\n",
    "    print(problem3)"
   ]
  },
  {
   "cell_type": "code",
   "execution_count": 38,
   "id": "12a25854",
   "metadata": {},
   "outputs": [
    {
     "name": "stdout",
     "output_type": "stream",
     "text": [
      "{'Dataset A:': [4.5, 4.5, 2.87], 'Dataset B:': [12.2, 12.5, 14.25], 'Dataset C:': [103.36, 84.0, 53.79]}\n",
      "{'Dataset A:': 2.87, 'Dataset B:': 14.25, 'Dataset C:': 53.79}\n",
      "{'Dataset A:': [1.5679442508710801, 1.0], 'Dataset B:': [0.856140350877193, 1.0], 'Dataset C:': [1.9215467559025836, 1.0]}\n"
     ]
    }
   ],
   "source": [
    "if __name__ == \"__main__\":\n",
    "    main()"
   ]
  },
  {
   "cell_type": "code",
   "execution_count": null,
   "id": "0cc10f32",
   "metadata": {},
   "outputs": [],
   "source": []
  }
 ],
 "metadata": {
  "kernelspec": {
   "display_name": "Python 3",
   "language": "python",
   "name": "python3"
  },
  "language_info": {
   "codemirror_mode": {
    "name": "ipython",
    "version": 3
   },
   "file_extension": ".py",
   "mimetype": "text/x-python",
   "name": "python",
   "nbconvert_exporter": "python",
   "pygments_lexer": "ipython3",
   "version": "3.8.5"
  }
 },
 "nbformat": 4,
 "nbformat_minor": 5
}
