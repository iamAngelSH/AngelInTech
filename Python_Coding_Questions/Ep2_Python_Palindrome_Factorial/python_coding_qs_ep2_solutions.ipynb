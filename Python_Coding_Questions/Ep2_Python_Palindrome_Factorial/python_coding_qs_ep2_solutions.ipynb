{
 "cells": [
  {
   "cell_type": "markdown",
   "id": "ee666966",
   "metadata": {},
   "source": [
    "# Python Coding Questions Ep. 2\n",
    "\n",
    "In this notebook we will be solving the following questions:\n",
    "- Check if a string is a palindrome (PART 1)\n",
    "- Calculate Factorial for an integer using recursion (PART 2)"
   ]
  },
  {
   "cell_type": "markdown",
   "id": "4711a055",
   "metadata": {},
   "source": [
    "#### Check if a string is a palindrome\n",
    "\n",
    "A string or phrase is a palindrome if after converting all uppercase letters into lowercase letters and removing all non-alphanumeric characters it reads the same forward and backward. For example, the string “Bob” is a palindrome, as it’s the same no matter from which side you read it.\n",
    "\n",
    "Problem description: Given a string s, return True if it’s a palindrome, or False otherwise."
   ]
  },
  {
   "cell_type": "code",
   "execution_count": 98,
   "id": "0ff0c2f8",
   "metadata": {},
   "outputs": [],
   "source": [
    "import re\n",
    "class Palindrome:\n",
    "    '''When init the class Palindrome, we will always expect to pass in a string'''\n",
    "    def __init__(self, string):\n",
    "        '''Convert string to lowercase to make things easier to deal with\n",
    "           Create a variable to hold our palindrome string to compare'''\n",
    "        self.s = string.lower()\n",
    "        self.palindrome_string = ''\n",
    "    \n",
    "    def only_words_from_string(self, string):\n",
    "        '''Helper function\n",
    "            - Find only words in our string using RE library (Regular Expressions)\n",
    "            \n",
    "            NOTICE THAT THE WORDS ARE JOINED TOGETHER, \n",
    "            IF THERE IS A SPACE, THEN SOME PALINDROMES WON'T BE ACCOUNTED FOR \n",
    "        '''\n",
    "        \n",
    "        return ''.join(re.findall(r'\\w+', string))\n",
    "    \n",
    "    def isPalindrome(self):\n",
    "        '''Our Palindrome Function\n",
    "        - Call our helper function\n",
    "        - Add each character from our word into our palindrome string\n",
    "        - If our palindrome string and word equal each other, return true\n",
    "        - Return False other wise'''\n",
    "        word = self.only_words_from_string(self.s)\n",
    "        \n",
    "        for i in word: ## Add each character in word to our empty palindrome string\n",
    "            self.palindrome_string = i + self.palindrome_string\n",
    "\n",
    "\n",
    "        # Check if word and string are the same\n",
    "        return (\n",
    "            f'[{word}] is a Palindrome --> {self.palindrome_string}' if word == self.palindrome_string \n",
    "            else f'[{word}] is Not a Palindrome: {self.palindrome_string}' \n",
    "        )\n",
    "            \n",
    "\n"
   ]
  },
  {
   "cell_type": "code",
   "execution_count": 99,
   "id": "6559f319",
   "metadata": {},
   "outputs": [
    {
     "name": "stdout",
     "output_type": "stream",
     "text": [
      "\n",
      "[mom] is a Palindrome --> mom\n",
      "\n",
      "[dad] is a Palindrome --> dad\n",
      "\n",
      "[stanleyyelnats] is a Palindrome --> stanleyyelnats\n",
      "\n",
      "[1tot] is Not a Palindrome: tot1\n",
      "\n",
      "[amanaplanacanalpanama] is a Palindrome --> amanaplanacanalpanama\n",
      "\n",
      "[computerscienceportal] is Not a Palindrome: latropecneicsretupmoc\n",
      "\n",
      "[malayalam] is a Palindrome --> malayalam\n",
      "\n",
      "[pythonissomuchfun] is Not a Palindrome: nufhcumossinohtyp\n"
     ]
    }
   ],
   "source": [
    "test_palindrome_strings = [\n",
    "    'mom', 'dad', 'stanley yelnats', \n",
    "    '1 tot !', \"A man, a plan, a canal: Panama\", \n",
    "    \"@# Computer Science Portal.!!!\", 'malayalam',\n",
    "    'Python is so much fun']\n",
    "for string in test_palindrome_strings:\n",
    "    palindrome_check = Palindrome(string)\n",
    "#     print(palindrome_check.only_words_from_string(string))\n",
    "    print()\n",
    "    print(palindrome_check.isPalindrome())"
   ]
  },
  {
   "cell_type": "markdown",
   "id": "24912f3b",
   "metadata": {},
   "source": [
    "<br>\n",
    "\n",
    "Figuring out if a string is a palindrome is something developers should be familar with because it is a common technical interview question.\n",
    "\n",
    "It involves string manipulation and  traversal. \n",
    "\n",
    "Now, whether this question has any real life application, I am not sure. That can be up to you for your next project! ;)\n",
    "\n",
    "\n",
    "Resources:\n",
    "- [Khan Academy: Palindrome](https://www.khanacademy.org/computing/computer-science/algorithms/recursive-algorithms/a/using-recursion-to-determine-whether-a-word-is-a-palindrome)\n",
    "- [Medium: Jake Tran](https://medium.com/@jake.tran42/palindromes-and-why-theyre-important-8a4d421c1da2)"
   ]
  },
  {
   "cell_type": "markdown",
   "id": "8e18e13e",
   "metadata": {},
   "source": [
    "<br>"
   ]
  },
  {
   "cell_type": "markdown",
   "id": "d63f3309",
   "metadata": {},
   "source": [
    "#### Calculate a Factorial Using Recursion\n",
    "\n",
    "A factorial of a number is the product of all the integers from that number to 1. For example, the factorial of 5, or 5! is $5*4*3*2*1 = 120$. Factorials are not defined for negative numbers and the factorial of zero is one.\n",
    "\n",
    "A recursive function is a function that calls itself during its execution. It needs an exit condition, or it will run indefinitely.\n",
    "\n",
    "Problem description: Given a positive integer x, return an integer that is a factorial of x. If a negative integer is provided, return -1. Implement the solution by using a recursive function."
   ]
  },
  {
   "cell_type": "code",
   "execution_count": 100,
   "id": "09f769c0",
   "metadata": {},
   "outputs": [],
   "source": [
    "class Factorial:\n",
    "    '''When initializing the class Factorial, we will always expect to pass in a number'''\n",
    "    def __init__(self, integer):\n",
    "        '''We will add 1 to our integer value to be able to include the full result of the number'''\n",
    "        self.num = integer + 1\n",
    "        self.base_cases = [0, 1] # Memoization, covers the base case of Factorial(0 or 1) to return 1\n",
    "    \n",
    "    def calcRecur(self):\n",
    "        '''- Check for our base cases\n",
    "           - If not a base case, decrease number, \n",
    "           iterate from starting number and multiply with next'''\n",
    "        if self.num in self.base_cases: return 1\n",
    "        else:\n",
    "            self.num -= 1\n",
    "            return self.num * self.calcRecur()"
   ]
  },
  {
   "cell_type": "code",
   "execution_count": 101,
   "id": "ac29b716",
   "metadata": {
    "scrolled": true
   },
   "outputs": [
    {
     "name": "stdout",
     "output_type": "stream",
     "text": [
      "Factorial of 0 --> 1\n",
      "Factorial of 1 --> 1\n",
      "Factorial of 2 --> 2\n",
      "Factorial of 3 --> 6\n",
      "Factorial of 4 --> 24\n",
      "Factorial of 5 --> 120\n",
      "Factorial of 6 --> 720\n",
      "Factorial of 7 --> 5040\n",
      "Factorial of 8 --> 40320\n",
      "Factorial of 9 --> 362880\n"
     ]
    }
   ],
   "source": [
    "for i in range(0, 10):\n",
    "    factorial = Factorial(i)\n",
    "    print(f'Factorial of {i} --> {factorial.calcRecur()}')"
   ]
  },
  {
   "cell_type": "markdown",
   "id": "b4a7c067",
   "metadata": {},
   "source": [
    "<br>"
   ]
  },
  {
   "cell_type": "markdown",
   "id": "8c1741f4",
   "metadata": {},
   "source": [
    "Some pragmatic examples of factorials: \n",
    ">In math education, you will run into factorials in calculus, such as using Taylor's Theorem, the binomial theorem, or combinatorics (the art of counting). You also see factorials in algebra when you learn about permutations.\n",
    "\n",
    "or\n",
    "\n",
    ">When wanting to calculate/estimate the probability of desired outcomes in a card game, you will need to have a working knowledge of factorials.\n",
    "\n",
    "or\n",
    "\n",
    ">Let's say you have you have 5 chores on your list, that is 5! --> $5*4*3*2*1 = 120$ possibilities. Though it's not useful to think about doing it 120 different ways, IMO!\n",
    "\n",
    "\n",
    "More examples:\n",
    "- [Why are factorials useful](https://thesassway.com/why-are-factorials-useful-in-computer-science/)\n",
    "\n",
    "<br>\n",
    "\n"
   ]
  },
  {
   "cell_type": "markdown",
   "id": "370c87c1",
   "metadata": {},
   "source": [
    "#### Main program to call our functions"
   ]
  },
  {
   "cell_type": "code",
   "execution_count": 130,
   "id": "6b70b95b",
   "metadata": {},
   "outputs": [],
   "source": [
    "def main():\n",
    "    print('Palindrome Test')\n",
    "    for string in [\n",
    "                    'mom', 'dad', 'stanley yelnats', \n",
    "                    '1 tot !', \"A man, a plan, a canal: Panama\", \n",
    "                    \"@# Computer Science Portal.!!!\", 'malayalam',\n",
    "                    'Python is so much fun'\n",
    "        ]:\n",
    "        print(Palindrome(string).isPalindrome())\n",
    "        \n",
    "    print('\\n************************\\nFactorial Test')\n",
    "    for i in range(0, 10):\n",
    "        print(f'Factorial of {i} --> {Factorial(i).calcRecur()}')"
   ]
  },
  {
   "cell_type": "code",
   "execution_count": 131,
   "id": "90968253",
   "metadata": {},
   "outputs": [
    {
     "name": "stdout",
     "output_type": "stream",
     "text": [
      "Palindrome Test\n",
      "[mom] is a Palindrome --> mom\n",
      "[dad] is a Palindrome --> dad\n",
      "[stanleyyelnats] is a Palindrome --> stanleyyelnats\n",
      "[1tot] is Not a Palindrome: tot1\n",
      "[amanaplanacanalpanama] is a Palindrome --> amanaplanacanalpanama\n",
      "[computerscienceportal] is Not a Palindrome: latropecneicsretupmoc\n",
      "[malayalam] is a Palindrome --> malayalam\n",
      "[pythonissomuchfun] is Not a Palindrome: nufhcumossinohtyp\n",
      "\n",
      "************************\n",
      "Factorial Test\n",
      "Factorial of 0 --> 1\n",
      "Factorial of 1 --> 1\n",
      "Factorial of 2 --> 2\n",
      "Factorial of 3 --> 6\n",
      "Factorial of 4 --> 24\n",
      "Factorial of 5 --> 120\n",
      "Factorial of 6 --> 720\n",
      "Factorial of 7 --> 5040\n",
      "Factorial of 8 --> 40320\n",
      "Factorial of 9 --> 362880\n"
     ]
    }
   ],
   "source": [
    "if __name__ == \"__main__\":\n",
    "    main()"
   ]
  },
  {
   "cell_type": "code",
   "execution_count": null,
   "id": "40154907",
   "metadata": {},
   "outputs": [],
   "source": []
  }
 ],
 "metadata": {
  "kernelspec": {
   "display_name": "Python 3",
   "language": "python",
   "name": "python3"
  },
  "language_info": {
   "codemirror_mode": {
    "name": "ipython",
    "version": 3
   },
   "file_extension": ".py",
   "mimetype": "text/x-python",
   "name": "python",
   "nbconvert_exporter": "python",
   "pygments_lexer": "ipython3",
   "version": "3.8.5"
  }
 },
 "nbformat": 4,
 "nbformat_minor": 5
}
