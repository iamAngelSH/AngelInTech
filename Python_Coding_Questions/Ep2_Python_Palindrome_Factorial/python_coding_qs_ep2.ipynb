{
 "cells": [
  {
   "cell_type": "markdown",
   "id": "a7ab30be",
   "metadata": {},
   "source": [
    "#### FizzBuzz\n",
    "\n",
    "This classic question is good practice for beginners and for all coders, yes it can be solved in other programming languages.\n",
    "\n",
    "Heres the problem:\n",
    "\n",
    "- *Given an integer* **n**, *return a string array result where:*\n",
    "    - *if* **n** *is divisible by 3 and 5, return FizzBuzz*\n",
    "    - *if* **n** *is divisble by 3, return Fizz*\n",
    "    - *if* **n** *is divisble by 5, return Buzz*\n",
    "    - *return* **n** *in any other case.*\n",
    "\n",
    "You should check for the FizzBuzz condition first, as it checks for multiple conditions. For example, the number 15 is divisible with both 3 and 5, so FizzBuzz should get printed. 15 is also divisible by 3 and 5 individually, and we don’t want Fizz or Buzz printed alone."
   ]
  },
  {
   "cell_type": "code",
   "execution_count": null,
   "id": "8cebba69",
   "metadata": {},
   "outputs": [],
   "source": []
  },
  {
   "cell_type": "markdown",
   "id": "71d685d4",
   "metadata": {},
   "source": [
    "#### Calculate a Factorial Using Recursion\n",
    "\n",
    "A factorial of a number is the product of all the integers from that number to 1. For example, the factorial of 5, or 5! is $5*4*3*2*1 = 120$. Factorials are not defined for negative numbers and the factorial of zero is one.\n",
    "\n",
    "A recursive function is a function that calls itself during its execution. It needs an exit condition, or it will run indefinitely.\n",
    "\n",
    "Problem description: Given a positive integer x, return an integer that is a factorial of x. If a negative integer is provided, return -1. Implement the solution by using a recursive function."
   ]
  },
  {
   "cell_type": "code",
   "execution_count": null,
   "id": "959744e5",
   "metadata": {},
   "outputs": [],
   "source": []
  }
 ],
 "metadata": {
  "kernelspec": {
   "display_name": "Python 3",
   "language": "python",
   "name": "python3"
  },
  "language_info": {
   "codemirror_mode": {
    "name": "ipython",
    "version": 3
   },
   "file_extension": ".py",
   "mimetype": "text/x-python",
   "name": "python",
   "nbconvert_exporter": "python",
   "pygments_lexer": "ipython3",
   "version": "3.8.5"
  }
 },
 "nbformat": 4,
 "nbformat_minor": 5
}
