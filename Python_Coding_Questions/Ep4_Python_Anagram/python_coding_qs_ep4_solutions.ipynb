{
 "cells": [
  {
   "cell_type": "markdown",
   "id": "012270bc",
   "metadata": {},
   "source": [
    "# Python Coding Questions Ep. 4\n",
    "\n",
    "In this notebook we will be solving the following questions:\n",
    "- Check if 2 given strings are an anagram"
   ]
  },
  {
   "cell_type": "markdown",
   "id": "09973b9a",
   "metadata": {},
   "source": [
    "#### Question: Check if String is an Anagram\n",
    "\n",
    "An Anagram is a word or phrase formed by rearranging the letters of a different word or phrase, typically using all the letters exactly once. For example, the words “anagram” and “nagaram” are anagrams.\n",
    "\n",
    "Problem description: Given two strings a and b, return True if b is an anagram of a, and False otherwise."
   ]
  },
  {
   "cell_type": "code",
   "execution_count": 42,
   "id": "2a277400",
   "metadata": {},
   "outputs": [],
   "source": [
    "class Anagram:\n",
    "    '''\n",
    "    A class to decide whether 2 given strings are anagrams.\n",
    "    ...\n",
    "    \n",
    "    Attributes\n",
    "    ----------\n",
    "    word (1, 2) : string\n",
    "        This will inititialize string sequence in lowercase\n",
    "        \n",
    "    Methods\n",
    "    -------\n",
    "    check_str_len():\n",
    "        returns true if lengths of strings are the same, else false\n",
    "    check_char_freq(string : str):\n",
    "        returns a dictionary of charcter counts\n",
    "    isAnagram():\n",
    "        returns True if character frequency dictionaries for each string are the same, else false\n",
    "    \n",
    "    '''\n",
    "    def __init__(self, word1, word2):\n",
    "        '''\n",
    "        Constructs all the necessary attributes for the anagram object\n",
    "        \n",
    "        Parameters\n",
    "        ----------\n",
    "            word (1, 2) : str\n",
    "                These string sequences are passed in\n",
    "        '''\n",
    "        self.str1 = word1.lower()\n",
    "        self.str2 = word2.lower()\n",
    "        \n",
    "    def can_compute(self) -> bool:\n",
    "        '''\n",
    "        Creates a boolean value after checking string lenghts. \n",
    "        \n",
    "        If same length, then True, else False.\n",
    "        \n",
    "        Parameters           \n",
    "        ----------           \n",
    "            None                  \n",
    "        \n",
    "        Returns\n",
    "        -------\n",
    "            Boolean Value\n",
    "        '''\n",
    "        if len(self.str1) != len(self.str2):\n",
    "            return False\n",
    "        return True\n",
    "\n",
    "    def check_char_freq(self, string : str) -> dict:\n",
    "        '''\n",
    "        Creates a frequency dictionary.\n",
    "        \n",
    "        It will keep count of how many times a character appears in a string.\n",
    "        \n",
    "        Parameters           \n",
    "        ----------           \n",
    "            string: str\n",
    "                String values from our original attributes.\n",
    "                    self.str1 or self.str2\n",
    "        \n",
    "        Returns\n",
    "        -------\n",
    "            Dictionary {}\n",
    "        \n",
    "        '''\n",
    "        freq_dict = {}\n",
    "        for i in string:\n",
    "            if i not in freq_dict:\n",
    "                freq_dict[i] = 1\n",
    "            else:\n",
    "                freq_dict[i] += 1\n",
    "        \n",
    "        return freq_dict\n",
    "    \n",
    "    def isAnagram(self) -> bool:\n",
    "        '''\n",
    "        Checks if our string attributes are an anagram.\n",
    "            True:\n",
    "                If frequency dictionaries are the same.\n",
    "            False (case 1):\n",
    "                If string lengths are not the same (CANNOT COMPUTE).\n",
    "            False (case 1):\n",
    "                If frequency dictionaries are not the same.\n",
    "        \n",
    "        Parameters\n",
    "        ----------\n",
    "            NONE\n",
    "        Returns\n",
    "        -------\n",
    "            Boolean Value\n",
    "        '''\n",
    "        if self.can_compute():\n",
    "            if self.check_char_freq(self.str1) == self.check_char_freq(self.str2):\n",
    "                return True\n",
    "            return False\n",
    "        return (f'NOT AN ANAGRAM: Strings are not the same length: {self.str1} : {self.str2}')\n",
    "        \n",
    "    "
   ]
  },
  {
   "cell_type": "code",
   "execution_count": 43,
   "id": "ba88397c",
   "metadata": {},
   "outputs": [],
   "source": [
    "def main():\n",
    "    list_words = [('ana', 'na'), ('ma', 'am'), ('mom', 'dad'), ('anagram', 'nagaram')] \n",
    "    for words in list_words:\n",
    "        is_anagram = Anagram(words[0], words[1])\n",
    "#         print(words[0], words[1])\n",
    "        print(is_anagram.isAnagram())\n"
   ]
  },
  {
   "cell_type": "code",
   "execution_count": 44,
   "id": "22670433",
   "metadata": {},
   "outputs": [
    {
     "name": "stdout",
     "output_type": "stream",
     "text": [
      "NOT AN ANAGRAM: Strings are not the same length: ana : na\n",
      "True\n",
      "False\n",
      "True\n"
     ]
    }
   ],
   "source": [
    "if __name__ == \"__main__\":\n",
    "    main()"
   ]
  },
  {
   "cell_type": "code",
   "execution_count": null,
   "id": "e7190580",
   "metadata": {},
   "outputs": [],
   "source": []
  }
 ],
 "metadata": {
  "kernelspec": {
   "display_name": "Python 3",
   "language": "python",
   "name": "python3"
  },
  "language_info": {
   "codemirror_mode": {
    "name": "ipython",
    "version": 3
   },
   "file_extension": ".py",
   "mimetype": "text/x-python",
   "name": "python",
   "nbconvert_exporter": "python",
   "pygments_lexer": "ipython3",
   "version": "3.8.5"
  }
 },
 "nbformat": 4,
 "nbformat_minor": 5
}
