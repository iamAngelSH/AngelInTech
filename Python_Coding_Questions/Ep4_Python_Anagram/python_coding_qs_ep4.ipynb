{
 "cells": [
  {
   "cell_type": "markdown",
   "id": "3a63961a",
   "metadata": {},
   "source": [
    "# Python Coding Questions Ep. 4\n",
    "\n",
    "In this notebook we will be solving the following questions:\n",
    "- Check if 2 given strings are an anagram"
   ]
  },
  {
   "cell_type": "markdown",
   "id": "1d083b7c",
   "metadata": {},
   "source": [
    "#### Question: Check if 2 given Strings are an Anagram\n",
    "\n",
    "An Anagram is a word or phrase formed by rearranging the letters of a different word or phrase, typically using all the letters exactly once. For example, the words “anagram” and “nagaram” are anagrams.\n",
    "\n",
    "Problem description: \n",
    "- Given two strings a and b, return True if b is an anagram of a, and False otherwise."
   ]
  },
  {
   "cell_type": "code",
   "execution_count": 19,
   "id": "a7465e92",
   "metadata": {},
   "outputs": [],
   "source": [
    "class Anagram:\n",
    "    '''\n",
    "    A class to decide whether 2 given strings are anagrams.\n",
    "    ...\n",
    "    \n",
    "    Attributes\n",
    "    ----------\n",
    "    word (1, 2) : string\n",
    "        This will inititialize string sequence in lowercase\n",
    "        \n",
    "    Methods\n",
    "    -------\n",
    "    can_compute() --> boolean:\n",
    "        returns true if lengths of strings are the same, else false\n",
    "    check_char_freq(string : str) --> dict:\n",
    "        returns a dictionary of charcter counts\n",
    "    isAnagram() --> boolean:\n",
    "        returns True if character frequency dictionaries for each string are the same, else false\n",
    "    \n",
    "    '''\n",
    "    def __init__(self, word1, word2):\n",
    "        '''\n",
    "        Constructs all the necessary attributes for the anagram object\n",
    "        \n",
    "        Parameters\n",
    "        ----------\n",
    "            word (1, 2) : str\n",
    "                These string sequences are passed in\n",
    "        '''\n",
    "        pass\n",
    "        \n",
    "    def can_compute(self) -> bool:\n",
    "        '''\n",
    "        Creates a boolean value after checking string lenghts. \n",
    "        \n",
    "        If same length, then True, else False.\n",
    "        \n",
    "        Parameters           \n",
    "        ----------           \n",
    "            None                  \n",
    "        \n",
    "        Returns\n",
    "        -------\n",
    "            Boolean Value\n",
    "        '''\n",
    "        pass\n",
    "\n",
    "    def check_char_freq(self, string : str) -> dict:\n",
    "        '''\n",
    "        Creates a frequency dictionary.\n",
    "        \n",
    "        It will keep count of how many times a character appears in a string.\n",
    "        \n",
    "        Parameters           \n",
    "        ----------           \n",
    "            string: str\n",
    "                String values from our original attributes.\n",
    "                    self.str1 or self.str2\n",
    "        \n",
    "        Returns\n",
    "        -------\n",
    "            Dictionary {}\n",
    "        \n",
    "        '''\n",
    "        pass\n",
    "    \n",
    "    def isAnagram(self) -> bool:\n",
    "        '''\n",
    "        Checks if our string attributes are an anagram.\n",
    "            True:\n",
    "                If frequency dictionaries are the same.\n",
    "            False (case 1):\n",
    "                If string lengths are not the same (CANNOT COMPUTE).\n",
    "            False (case 2):\n",
    "                If frequency dictionaries are not the same.\n",
    "        \n",
    "        Parameters\n",
    "        ----------\n",
    "            NONE\n",
    "        Returns\n",
    "        -------\n",
    "            Boolean Value\n",
    "        '''\n",
    "        pass\n",
    "        \n",
    "    "
   ]
  },
  {
   "cell_type": "code",
   "execution_count": 20,
   "id": "104026c8",
   "metadata": {},
   "outputs": [],
   "source": [
    "def main():\n",
    "    list_words = [('ana', 'na'), ('ma', 'am'), ('mom', 'dad'), ('anagram', 'nagaram')] \n",
    "    for words in list_words:\n",
    "        is_anagram = Anagram(words[0], words[1])\n",
    "#         print(words[0], words[1])\n",
    "        print(is_anagram.isAnagram())\n"
   ]
  },
  {
   "cell_type": "code",
   "execution_count": 21,
   "id": "f6ef1a17",
   "metadata": {},
   "outputs": [
    {
     "name": "stdout",
     "output_type": "stream",
     "text": [
      "None\n",
      "None\n",
      "None\n",
      "None\n"
     ]
    }
   ],
   "source": [
    "if __name__ == \"__main__\":\n",
    "    main()"
   ]
  },
  {
   "cell_type": "code",
   "execution_count": null,
   "id": "01ee671e",
   "metadata": {},
   "outputs": [],
   "source": []
  }
 ],
 "metadata": {
  "kernelspec": {
   "display_name": "Python 3",
   "language": "python",
   "name": "python3"
  },
  "language_info": {
   "codemirror_mode": {
    "name": "ipython",
    "version": 3
   },
   "file_extension": ".py",
   "mimetype": "text/x-python",
   "name": "python",
   "nbconvert_exporter": "python",
   "pygments_lexer": "ipython3",
   "version": "3.8.5"
  }
 },
 "nbformat": 4,
 "nbformat_minor": 5
}
