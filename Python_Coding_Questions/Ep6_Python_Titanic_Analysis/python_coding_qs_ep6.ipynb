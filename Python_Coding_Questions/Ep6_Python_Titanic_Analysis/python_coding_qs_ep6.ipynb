{
 "cells": [
  {
   "cell_type": "markdown",
   "id": "6c6e443e",
   "metadata": {},
   "source": [
    "# Titanic Dataset\n",
    "\n",
    "Today, in this tutorial we will be answering some basic and beginner questions regarding the titanic dataset.\n",
    "\n",
    "- It will cover some basic data science comprehension and related topics.\n",
    "\n",
    "The dataset will be read from the following github repo:\n",
    "- https://raw.githubusercontent.com/datasciencedojo/datasets/master/titanic.csv\n",
    "\n",
    "\n",
    "Some history of the dataset:\n",
    ">Some claim that the final hours aboard the RMS Titanic were marked by \"class warfare\" in which the people with first-class tickets took all the good spots on the lifeboats; others claim that the final hours were characterized by *male chivalry*, in which the men valiantly gave up their positions in the boats and succumbed bravely to the depths of the Atlantic. \n",
    "\n",
    ">We have the data on survival rates by class and by sex, so let's figure out whether there is evidence for these scenarios. Access the Titanic data in `titanic_data.csv` and store it in a Pandas DataFrame. The data contains information pertaining to class status (**Pclass**), survival (**Survived**), and gender (**Sex**) of passengers, among other things. Be sure to use the `titanic_data.csv` data set, *not* the `clean_titanic_data` file from the in-class notebook."
   ]
  },
  {
   "cell_type": "markdown",
   "id": "be04668e",
   "metadata": {},
   "source": [
    "**Libraries used for this project**"
   ]
  },
  {
   "cell_type": "code",
   "execution_count": 10,
   "id": "18315599",
   "metadata": {},
   "outputs": [],
   "source": [
    "import pandas as pd\n",
    "import numpy as np\n",
    "import matplotlib.pylab as plt"
   ]
  },
  {
   "cell_type": "markdown",
   "id": "c2ec0e2d",
   "metadata": {},
   "source": [
    "**Some Information**: \n",
    "\n",
    "Before we begin, let's exam a consider things that we learned about and know about the RMS Titanic.\n",
    "\n",
    "\n",
    "Consider the two claims: \n",
    "- class warfare, and male chivalry. \n",
    "\n",
    "Suppose that class warfare occurred in the final hours aboard the Titanic. What patterns might you expect to see in the data? \n",
    ">If we suppose that class warfare occurred in the final hours, some patterns that one can expect to see is that memebers from the same class would have a higher survival rate (as long as they beat the other classes). Another pattern that we can see is that there can be low survival rates if they were the ones outed by the other classes.\n",
    "\n",
    "Suppose that male chivalry was widespread during the final hours instead. What patterns might you then expect to see in the data?\n",
    ">During the final hours, if male chivalry was widespread, then during those final hours there would be more females who survived.\n",
    "\n",
    ">If class warfare was to happen, then make chivalry could still be present, or one can be present and the other cannnot. This would make these two events not exclsive. "
   ]
  },
  {
   "cell_type": "markdown",
   "id": "4aba83d0",
   "metadata": {},
   "source": [
    "**Read in the data to see what it looks like**"
   ]
  },
  {
   "cell_type": "code",
   "execution_count": 13,
   "id": "ae81ed89",
   "metadata": {},
   "outputs": [
    {
     "data": {
      "text/html": [
       "<div>\n",
       "<style scoped>\n",
       "    .dataframe tbody tr th:only-of-type {\n",
       "        vertical-align: middle;\n",
       "    }\n",
       "\n",
       "    .dataframe tbody tr th {\n",
       "        vertical-align: top;\n",
       "    }\n",
       "\n",
       "    .dataframe thead th {\n",
       "        text-align: right;\n",
       "    }\n",
       "</style>\n",
       "<table border=\"1\" class=\"dataframe\">\n",
       "  <thead>\n",
       "    <tr style=\"text-align: right;\">\n",
       "      <th></th>\n",
       "      <th>PassengerId</th>\n",
       "      <th>Survived</th>\n",
       "      <th>Pclass</th>\n",
       "      <th>Name</th>\n",
       "      <th>Sex</th>\n",
       "      <th>Age</th>\n",
       "      <th>SibSp</th>\n",
       "      <th>Parch</th>\n",
       "      <th>Ticket</th>\n",
       "      <th>Fare</th>\n",
       "      <th>Cabin</th>\n",
       "      <th>Embarked</th>\n",
       "    </tr>\n",
       "  </thead>\n",
       "  <tbody>\n",
       "    <tr>\n",
       "      <th>0</th>\n",
       "      <td>1</td>\n",
       "      <td>0</td>\n",
       "      <td>3</td>\n",
       "      <td>Braund, Mr. Owen Harris</td>\n",
       "      <td>male</td>\n",
       "      <td>22.0</td>\n",
       "      <td>1</td>\n",
       "      <td>0</td>\n",
       "      <td>A/5 21171</td>\n",
       "      <td>7.2500</td>\n",
       "      <td>NaN</td>\n",
       "      <td>S</td>\n",
       "    </tr>\n",
       "    <tr>\n",
       "      <th>1</th>\n",
       "      <td>2</td>\n",
       "      <td>1</td>\n",
       "      <td>1</td>\n",
       "      <td>Cumings, Mrs. John Bradley (Florence Briggs Th...</td>\n",
       "      <td>female</td>\n",
       "      <td>38.0</td>\n",
       "      <td>1</td>\n",
       "      <td>0</td>\n",
       "      <td>PC 17599</td>\n",
       "      <td>71.2833</td>\n",
       "      <td>C85</td>\n",
       "      <td>C</td>\n",
       "    </tr>\n",
       "    <tr>\n",
       "      <th>2</th>\n",
       "      <td>3</td>\n",
       "      <td>1</td>\n",
       "      <td>3</td>\n",
       "      <td>Heikkinen, Miss. Laina</td>\n",
       "      <td>female</td>\n",
       "      <td>26.0</td>\n",
       "      <td>0</td>\n",
       "      <td>0</td>\n",
       "      <td>STON/O2. 3101282</td>\n",
       "      <td>7.9250</td>\n",
       "      <td>NaN</td>\n",
       "      <td>S</td>\n",
       "    </tr>\n",
       "    <tr>\n",
       "      <th>3</th>\n",
       "      <td>4</td>\n",
       "      <td>1</td>\n",
       "      <td>1</td>\n",
       "      <td>Futrelle, Mrs. Jacques Heath (Lily May Peel)</td>\n",
       "      <td>female</td>\n",
       "      <td>35.0</td>\n",
       "      <td>1</td>\n",
       "      <td>0</td>\n",
       "      <td>113803</td>\n",
       "      <td>53.1000</td>\n",
       "      <td>C123</td>\n",
       "      <td>S</td>\n",
       "    </tr>\n",
       "    <tr>\n",
       "      <th>4</th>\n",
       "      <td>5</td>\n",
       "      <td>0</td>\n",
       "      <td>3</td>\n",
       "      <td>Allen, Mr. William Henry</td>\n",
       "      <td>male</td>\n",
       "      <td>35.0</td>\n",
       "      <td>0</td>\n",
       "      <td>0</td>\n",
       "      <td>373450</td>\n",
       "      <td>8.0500</td>\n",
       "      <td>NaN</td>\n",
       "      <td>S</td>\n",
       "    </tr>\n",
       "  </tbody>\n",
       "</table>\n",
       "</div>"
      ],
      "text/plain": [
       "   PassengerId  Survived  Pclass  \\\n",
       "0            1         0       3   \n",
       "1            2         1       1   \n",
       "2            3         1       3   \n",
       "3            4         1       1   \n",
       "4            5         0       3   \n",
       "\n",
       "                                                Name     Sex   Age  SibSp  \\\n",
       "0                            Braund, Mr. Owen Harris    male  22.0      1   \n",
       "1  Cumings, Mrs. John Bradley (Florence Briggs Th...  female  38.0      1   \n",
       "2                             Heikkinen, Miss. Laina  female  26.0      0   \n",
       "3       Futrelle, Mrs. Jacques Heath (Lily May Peel)  female  35.0      1   \n",
       "4                           Allen, Mr. William Henry    male  35.0      0   \n",
       "\n",
       "   Parch            Ticket     Fare Cabin Embarked  \n",
       "0      0         A/5 21171   7.2500   NaN        S  \n",
       "1      0          PC 17599  71.2833   C85        C  \n",
       "2      0  STON/O2. 3101282   7.9250   NaN        S  \n",
       "3      0            113803  53.1000  C123        S  \n",
       "4      0            373450   8.0500   NaN        S  "
      ]
     },
     "execution_count": 13,
     "metadata": {},
     "output_type": "execute_result"
    }
   ],
   "source": [
    "URL = 'https://raw.githubusercontent.com/datasciencedojo/datasets/master/titanic.csv'\n",
    "def read_data(file):\n",
    "    return pd.read_csv(file)\n",
    "\n",
    "raw_df = read_data(URL)\n",
    "raw_df.head()"
   ]
  },
  {
   "cell_type": "markdown",
   "id": "b14581c8",
   "metadata": {},
   "source": [
    "Using Pandas will create a clean data set by removing any rows from the DataFrame that are missing values corresponding to **Survived**, **Pclass**, **Age**, or **Sex**. "
   ]
  },
  {
   "cell_type": "code",
   "execution_count": 14,
   "id": "e9f79140",
   "metadata": {},
   "outputs": [
    {
     "data": {
      "text/html": [
       "<div>\n",
       "<style scoped>\n",
       "    .dataframe tbody tr th:only-of-type {\n",
       "        vertical-align: middle;\n",
       "    }\n",
       "\n",
       "    .dataframe tbody tr th {\n",
       "        vertical-align: top;\n",
       "    }\n",
       "\n",
       "    .dataframe thead th {\n",
       "        text-align: right;\n",
       "    }\n",
       "</style>\n",
       "<table border=\"1\" class=\"dataframe\">\n",
       "  <thead>\n",
       "    <tr style=\"text-align: right;\">\n",
       "      <th></th>\n",
       "      <th>PassengerId</th>\n",
       "      <th>Survived</th>\n",
       "      <th>Pclass</th>\n",
       "      <th>Name</th>\n",
       "      <th>Sex</th>\n",
       "      <th>Age</th>\n",
       "      <th>SibSp</th>\n",
       "      <th>Parch</th>\n",
       "      <th>Ticket</th>\n",
       "      <th>Fare</th>\n",
       "      <th>Cabin</th>\n",
       "      <th>Embarked</th>\n",
       "    </tr>\n",
       "  </thead>\n",
       "  <tbody>\n",
       "    <tr>\n",
       "      <th>0</th>\n",
       "      <td>1</td>\n",
       "      <td>0</td>\n",
       "      <td>3</td>\n",
       "      <td>Braund, Mr. Owen Harris</td>\n",
       "      <td>male</td>\n",
       "      <td>22.0</td>\n",
       "      <td>1</td>\n",
       "      <td>0</td>\n",
       "      <td>A/5 21171</td>\n",
       "      <td>7.2500</td>\n",
       "      <td>NaN</td>\n",
       "      <td>S</td>\n",
       "    </tr>\n",
       "    <tr>\n",
       "      <th>1</th>\n",
       "      <td>2</td>\n",
       "      <td>1</td>\n",
       "      <td>1</td>\n",
       "      <td>Cumings, Mrs. John Bradley (Florence Briggs Th...</td>\n",
       "      <td>female</td>\n",
       "      <td>38.0</td>\n",
       "      <td>1</td>\n",
       "      <td>0</td>\n",
       "      <td>PC 17599</td>\n",
       "      <td>71.2833</td>\n",
       "      <td>C85</td>\n",
       "      <td>C</td>\n",
       "    </tr>\n",
       "    <tr>\n",
       "      <th>2</th>\n",
       "      <td>3</td>\n",
       "      <td>1</td>\n",
       "      <td>3</td>\n",
       "      <td>Heikkinen, Miss. Laina</td>\n",
       "      <td>female</td>\n",
       "      <td>26.0</td>\n",
       "      <td>0</td>\n",
       "      <td>0</td>\n",
       "      <td>STON/O2. 3101282</td>\n",
       "      <td>7.9250</td>\n",
       "      <td>NaN</td>\n",
       "      <td>S</td>\n",
       "    </tr>\n",
       "    <tr>\n",
       "      <th>3</th>\n",
       "      <td>4</td>\n",
       "      <td>1</td>\n",
       "      <td>1</td>\n",
       "      <td>Futrelle, Mrs. Jacques Heath (Lily May Peel)</td>\n",
       "      <td>female</td>\n",
       "      <td>35.0</td>\n",
       "      <td>1</td>\n",
       "      <td>0</td>\n",
       "      <td>113803</td>\n",
       "      <td>53.1000</td>\n",
       "      <td>C123</td>\n",
       "      <td>S</td>\n",
       "    </tr>\n",
       "    <tr>\n",
       "      <th>4</th>\n",
       "      <td>5</td>\n",
       "      <td>0</td>\n",
       "      <td>3</td>\n",
       "      <td>Allen, Mr. William Henry</td>\n",
       "      <td>male</td>\n",
       "      <td>35.0</td>\n",
       "      <td>0</td>\n",
       "      <td>0</td>\n",
       "      <td>373450</td>\n",
       "      <td>8.0500</td>\n",
       "      <td>NaN</td>\n",
       "      <td>S</td>\n",
       "    </tr>\n",
       "  </tbody>\n",
       "</table>\n",
       "</div>"
      ],
      "text/plain": [
       "   PassengerId  Survived  Pclass  \\\n",
       "0            1         0       3   \n",
       "1            2         1       1   \n",
       "2            3         1       3   \n",
       "3            4         1       1   \n",
       "4            5         0       3   \n",
       "\n",
       "                                                Name     Sex   Age  SibSp  \\\n",
       "0                            Braund, Mr. Owen Harris    male  22.0      1   \n",
       "1  Cumings, Mrs. John Bradley (Florence Briggs Th...  female  38.0      1   \n",
       "2                             Heikkinen, Miss. Laina  female  26.0      0   \n",
       "3       Futrelle, Mrs. Jacques Heath (Lily May Peel)  female  35.0      1   \n",
       "4                           Allen, Mr. William Henry    male  35.0      0   \n",
       "\n",
       "   Parch            Ticket     Fare Cabin Embarked  \n",
       "0      0         A/5 21171   7.2500   NaN        S  \n",
       "1      0          PC 17599  71.2833   C85        C  \n",
       "2      0  STON/O2. 3101282   7.9250   NaN        S  \n",
       "3      0            113803  53.1000  C123        S  \n",
       "4      0            373450   8.0500   NaN        S  "
      ]
     },
     "execution_count": 14,
     "metadata": {},
     "output_type": "execute_result"
    }
   ],
   "source": [
    "def remove_empty_rows(df, cols):\n",
    "    return df.dropna(subset = cols)\n",
    "\n",
    "clean_df = remove_empty_rows(raw_df, ['Survived', 'Pclass', 'Sex'])\n",
    "clean_df.head()"
   ]
  },
  {
   "cell_type": "markdown",
   "id": "b94b0087",
   "metadata": {},
   "source": [
    "Next, we want to compute the fraction of survivors according to class and gender. \n",
    "\n",
    "- There are 3 passenger classes and 2 sexes in the data set, so you should report all 6 possible combinations.  \n",
    "\n",
    "Then, we can answer 3 questions:\n",
    "* **(i)** Within each passenger class, were men or women more/less/equally likely to survive?\n",
    "* **(ii)**  Looking at only the male or only the female passengers, how is passenger class related to the category's survival rate?\n",
    "* **(iii)**  Did men in first class or women in third class have a higher survival rate? "
   ]
  },
  {
   "cell_type": "code",
   "execution_count": 15,
   "id": "48639ad6",
   "metadata": {},
   "outputs": [
    {
     "name": "stdout",
     "output_type": "stream",
     "text": [
      "Class 1 male Survivors: 33.0%\n",
      "Class 1 female Survivors: 67.0%\n",
      "\n",
      "Class 2 male Survivors: 20.0%\n",
      "Class 2 female Survivors: 80.0%\n",
      "\n",
      "Class 3 male Survivors: 39.0%\n",
      "Class 3 female Survivors: 61.0%\n",
      "\n"
     ]
    }
   ],
   "source": [
    "def survivors(df, class_type: int, sex: str):\n",
    "    class_ = df.loc[(df['Sex'] == sex) & (df['Survived'] > 0) & (df['Pclass'] == class_type), ]\n",
    "    return round(len(class_)/len(df.loc[(df['Pclass'] == class_type) & df['Survived'] > 0]), 2)\n",
    "\n",
    "\n",
    "def survivors_helper():\n",
    "    class_types = [1, 2, 3]\n",
    "    sex_ = ['male', 'female']\n",
    "    \n",
    "    for classType in class_types:\n",
    "        for sex in sex_:\n",
    "            print(f'Class {classType} {sex} Survivors: {survivors(clean_df, classType, sex) * 100}%')\n",
    "        print()\n",
    "            \n",
    "survivors_helper()"
   ]
  },
  {
   "cell_type": "markdown",
   "id": "ec750e4d",
   "metadata": {},
   "source": [
    "**What do we notice after computing our survivors based on class and sex?**\n",
    "\n",
    ">More females are likely to survive\n",
    "\n",
    ">For a male to survive, it would be better if you were in class 3, if you were a female, best chance to surive wold be in class 2.\n",
    "\n",
    ">Women in class 2 have a higher chance of surviving."
   ]
  },
  {
   "cell_type": "markdown",
   "id": "14c8ceb1",
   "metadata": {},
   "source": [
    "**Let's plot some visuals**: \n",
    "\n",
    "We will plot a histogram of all the passenger ages!\n",
    "\n",
    "Let's ponder on the questions:\n",
    "> How would you characterize the distribution of **AGE**? \n",
    "\n",
    "- In other words, What can you tell about the distribution? \n",
    "    - Is the data are unimodal, bimodal, multimodal, symmetric, negatively skewed, positively skewed, etc.)"
   ]
  },
  {
   "cell_type": "code",
   "execution_count": 16,
   "id": "6ac51782",
   "metadata": {},
   "outputs": [
    {
     "data": {
      "image/png": "[encoded data removed]",
      "text/plain": [
       "<Figure size 576x288 with 1 Axes>"
      ]
     },
     "metadata": {
      "needs_background": "light"
     },
     "output_type": "display_data"
    }
   ],
   "source": [
    "def plot_ages(df):\n",
    "    my_bins = range(0, 85, 5)\n",
    "    fig, ax = plt.subplots(figsize = (8, 4))\n",
    "    \n",
    "    df.hist(column = 'Age', ax = ax, bins = my_bins, facecolor = 'blue')\n",
    "    ax.set_title(\"Distribution of Age\", fontsize=20)\n",
    "    ax.set_xlabel(\"Age (years)\", fontsize=16)\n",
    "    ax.set_ylabel(\"Count\", fontsize=16)\n",
    "    \n",
    "plot_ages(clean_df)"
   ]
  },
  {
   "cell_type": "markdown",
   "id": "4627b3bd",
   "metadata": {},
   "source": [
    "We can see that the distribution of age is bimodal, there are two peaks.\n"
   ]
  },
  {
   "cell_type": "markdown",
   "id": "42e74627",
   "metadata": {},
   "source": [
    "**Lastly, let's consider a passangers age to the likelihood of surviving.**: \n",
    "\n",
    "To answer this question graphically, we will plot two density histograms on the same set of axes, showing the distribution of the ages of passengers who survived, and the distribution of the ages of passengers who did not. "
   ]
  },
  {
   "cell_type": "code",
   "execution_count": 17,
   "id": "abdfdfb9",
   "metadata": {},
   "outputs": [
    {
     "data": {
      "image/png": "[encoded data removed]",
      "text/plain": [
       "<Figure size 576x288 with 1 Axes>"
      ]
     },
     "metadata": {
      "needs_background": "light"
     },
     "output_type": "display_data"
    }
   ],
   "source": [
    "def age_vs_surviving(df):\n",
    "    my_bins = range(0,85,5)\n",
    "    fig, ax = plt.subplots(figsize=(8,4))\n",
    "    \n",
    "    df.loc[df[\"Survived\"]==1].hist(\n",
    "        column=\"Age\", ax=ax, \n",
    "        facecolor=\"black\", edgecolor=\"white\", \n",
    "        alpha=0.6, bins=my_bins, density=True)\n",
    "    \n",
    "    df.loc[df[\"Survived\"]==0].hist(\n",
    "        column=\"Age\", ax=ax, \n",
    "        facecolor=\"lightblue\", edgecolor=\"white\", \n",
    "        alpha=0.5, bins=my_bins, density=True)\n",
    "    \n",
    "    ax.set_title(\"Passanegers Age\", fontsize=16)\n",
    "    ax.set_xlabel(\"Age(years)\", fontsize=16)\n",
    "    ax.set_ylabel(\"Passanger Distribution\", fontsize=16)\n",
    "    ax.legend([\"Survived\", \"Dead\"]);\n",
    "    \n",
    "    ax.set_axisbelow(True)\n",
    "    \n",
    "age_vs_surviving(clean_df)\n",
    "    \n"
   ]
  },
  {
   "cell_type": "markdown",
   "id": "67683cfc",
   "metadata": {},
   "source": [
    "**What's next?**\n",
    "\n",
    "These were just a few basic questions that we answered using the titanic dataset. We were able to cover general data science and data visualization solutions to these problems.\n",
    "\n",
    "Going from here:\n",
    "- Implement Machine Learning Algorithms to predict survivors\n",
    "- Do some more in depth data science analysis\n",
    "- In depth Exploratory data analysis"
   ]
  },
  {
   "cell_type": "code",
   "execution_count": null,
   "id": "4a0da549",
   "metadata": {},
   "outputs": [],
   "source": []
  }
 ],
 "metadata": {
  "kernelspec": {
   "display_name": "Python 3",
   "language": "python",
   "name": "python3"
  },
  "language_info": {
   "codemirror_mode": {
    "name": "ipython",
    "version": 3
   },
   "file_extension": ".py",
   "mimetype": "text/x-python",
   "name": "python",
   "nbconvert_exporter": "python",
   "pygments_lexer": "ipython3",
   "version": "3.8.5"
  }
 },
 "nbformat": 4,
 "nbformat_minor": 5
}
