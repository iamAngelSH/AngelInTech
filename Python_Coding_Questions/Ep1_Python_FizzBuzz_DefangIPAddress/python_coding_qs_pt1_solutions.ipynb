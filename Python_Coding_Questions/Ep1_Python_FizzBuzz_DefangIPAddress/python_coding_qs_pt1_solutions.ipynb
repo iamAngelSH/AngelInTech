{
 "cells": [
  {
   "cell_type": "markdown",
   "id": "aa40c1b6",
   "metadata": {},
   "source": [
    "# Python Coding Questions\n",
    "\n",
    "In this new series of solving python questions, we will be solving 2-3 python coding questions.\n",
    "\n",
    "In this notebook, we will focus on the following questions:\n",
    "FizzBuzz and ReverseNumber!"
   ]
  },
  {
   "cell_type": "markdown",
   "id": "fb33d537",
   "metadata": {},
   "source": [
    "#### FizzBuzz\n",
    "\n",
    "This classic question is good practice for beginners and for all coders, yes it can be solved in other programming languages.\n",
    "\n",
    "Heres the problem:\n",
    "\n",
    "- *Given an integer* **n**, *return a string array result where:*\n",
    "    - *if* **n** *is divisible by 3 and 5, return FizzBuzz*\n",
    "    - *if* **n** *is divisble by 3, return Fizz*\n",
    "    - *if* **n** *is divisble by 5, return Buzz*\n",
    "    - *return* **n** *in any other case.*\n",
    "\n",
    "You should check for the FizzBuzz condition first, as it checks for multiple conditions. For example, the number 15 is divisible with both 3 and 5, so FizzBuzz should get printed. 15 is also divisible by 3 and 5 individually, and we don’t want Fizz or Buzz printed alone."
   ]
  },
  {
   "cell_type": "code",
   "execution_count": 4,
   "id": "3eace05f",
   "metadata": {},
   "outputs": [],
   "source": [
    "class FizzBuzz:\n",
    "    def __init__(self, number):\n",
    "        self.n = number\n",
    "        self.f = 'Fizz'\n",
    "        self.b = 'Buzz'\n",
    "        self.fb = 'FizzBuzz'\n",
    "        self.res = []\n",
    "        \n",
    "    def calc_fb(self):\n",
    "        for i in range(1, self.n+1):\n",
    "            if i % 3 == 0 and i % 5 == 0:\n",
    "                self.res.append(self.fb)\n",
    "                continue\n",
    "            elif i % 3 == 0:\n",
    "                self.res.append(self.f)\n",
    "                continue\n",
    "            elif i % 5 == 0:\n",
    "                self.res.append(self.b)\n",
    "                continue\n",
    "            else:\n",
    "                self.res.append(str(i))\n",
    "                \n",
    "        return self.res"
   ]
  },
  {
   "cell_type": "code",
   "execution_count": 6,
   "id": "06ee6627",
   "metadata": {},
   "outputs": [
    {
     "name": "stdout",
     "output_type": "stream",
     "text": [
      "Calc FizzBuzz for 10:\n",
      "['1', '2', 'Fizz', '4', 'Buzz', 'Fizz', '7', '8', 'Fizz', 'Buzz']\n",
      "\n",
      "Calc FizzBuzz for 20:\n",
      "['1', '2', 'Fizz', '4', 'Buzz', 'Fizz', '7', '8', 'Fizz', 'Buzz', '11', 'Fizz', '13', '14', 'FizzBuzz', '16', '17', 'Fizz', '19', 'Buzz']\n",
      "\n",
      "Calc FizzBuzz for 30:\n",
      "['1', '2', 'Fizz', '4', 'Buzz', 'Fizz', '7', '8', 'Fizz', 'Buzz', '11', 'Fizz', '13', '14', 'FizzBuzz', '16', '17', 'Fizz', '19', 'Buzz', 'Fizz', '22', '23', 'Fizz', 'Buzz', '26', 'Fizz', '28', '29', 'FizzBuzz']\n",
      "\n"
     ]
    }
   ],
   "source": [
    "# TEST\n",
    "\n",
    "for num in [10, 20, 30]:\n",
    "    fizzbuzz = FizzBuzz(num)\n",
    "    print(f'Calc FizzBuzz for {num}:\\n{fizzbuzz.calc_fb()}\\n')"
   ]
  },
  {
   "cell_type": "markdown",
   "id": "1ddfe9ad",
   "metadata": {},
   "source": [
    "#### Defang IP Address\n",
    "\n",
    "Here is the problem:\n",
    "- Problem description: Given a valid (IPv4) IP address, return its defanged version. A defanged IP address replaces every period . with [.].\n",
    "- A user's IP address is defanged to prevent the user from clicking on a malicious link. This type of problem is a very common coding interview question in Data Science.\n",
    "- Your localhost IP address is 127.0.0.1. The process of defanging basically surrounds all the dots with brackets.\n",
    "    - The end result is 127[.]0[.]0[.]1.\n",
    "    \n",
    "The approach for this problem is that we need to understand a few things:\n",
    "- We need to handle a list of IP Addresses, makes things easier\n",
    "- Understand that the IP address will be a string, so we need to do string manipulation\n",
    "- We need to cover the cases where the IP Address might not be valid\n",
    "- Return a list of defanged IP addresses or each one individually, this will based on what the interviewer wants.\n"
   ]
  },
  {
   "cell_type": "code",
   "execution_count": 7,
   "id": "cbe65b1d",
   "metadata": {},
   "outputs": [
    {
     "name": "stdout",
     "output_type": "stream",
     "text": [
      "Defanged IP Address 0.0.0.0 --> 0[.]0[.]0[.]0\n",
      "Defanged IP Address 127.092.2.1 --> 127[.]092[.]2[.]1\n",
      "Defanged IP Address 127.0.0.1 --> 127[.]0[.]0[.]1\n",
      "[ERROR]: INVALID IP ADDRESS --> 1\n",
      "[ERROR]: INVALID IP ADDRESS --> 10293801923809\n"
     ]
    }
   ],
   "source": [
    "class DefangIPAddress:\n",
    "    def __init__(self, ip_address):\n",
    "        self.ipa = ip_address\n",
    "        self.len_ipa = len(ip_address)\n",
    "        self.ip_dot_count = ip_address.count('.')\n",
    "    \n",
    "    def defang(self):\n",
    "        if self.len_ipa > 15 or self.ip_dot_count != 3:\n",
    "            return (f'[ERROR]: INVALID IP ADDRESS --> {self.ipa}')\n",
    "        defanged = '[.]'.join(self.ipa.split('.'))\n",
    "        return (f'Defanged IP Address {self.ipa} --> {defanged}')\n",
    "        \n",
    "        \n",
    "ip_addresses = ['0.0.0.0', '127.092.2.1', '127.0.0.1', '1', '10293801923809']\n",
    "for ip in ip_addresses:\n",
    "    defang_ip = DefangIPAddress(ip)\n",
    "    print(defang_ip.defang())"
   ]
  },
  {
   "cell_type": "code",
   "execution_count": 8,
   "id": "3aa659cf",
   "metadata": {},
   "outputs": [],
   "source": [
    "def main():\n",
    "\n",
    "    for num in [10, 20, 30]:\n",
    "        fizzbuzz = FizzBuzz(num)\n",
    "        print(f'Calc FizzBuzz for {num}:\\n{fizzbuzz.calc_fb()}\\n')\n",
    "    \n",
    "    for ip in ['0.0.0.0', '127.092.2.1', '127.0.0.1', '1', '10293801923809']:\n",
    "        defang_ip = DefangIPAddress(ip)\n",
    "        print(defang_ip.defang())"
   ]
  },
  {
   "cell_type": "code",
   "execution_count": 9,
   "id": "d3f92319",
   "metadata": {},
   "outputs": [
    {
     "name": "stdout",
     "output_type": "stream",
     "text": [
      "Calc FizzBuzz for 10:\n",
      "['1', '2', 'Fizz', '4', 'Buzz', 'Fizz', '7', '8', 'Fizz', 'Buzz']\n",
      "\n",
      "Calc FizzBuzz for 20:\n",
      "['1', '2', 'Fizz', '4', 'Buzz', 'Fizz', '7', '8', 'Fizz', 'Buzz', '11', 'Fizz', '13', '14', 'FizzBuzz', '16', '17', 'Fizz', '19', 'Buzz']\n",
      "\n",
      "Calc FizzBuzz for 30:\n",
      "['1', '2', 'Fizz', '4', 'Buzz', 'Fizz', '7', '8', 'Fizz', 'Buzz', '11', 'Fizz', '13', '14', 'FizzBuzz', '16', '17', 'Fizz', '19', 'Buzz', 'Fizz', '22', '23', 'Fizz', 'Buzz', '26', 'Fizz', '28', '29', 'FizzBuzz']\n",
      "\n",
      "Defanged IP Address 0.0.0.0 --> 0[.]0[.]0[.]0\n",
      "Defanged IP Address 127.092.2.1 --> 127[.]092[.]2[.]1\n",
      "Defanged IP Address 127.0.0.1 --> 127[.]0[.]0[.]1\n",
      "[ERROR]: INVALID IP ADDRESS --> 1\n",
      "[ERROR]: INVALID IP ADDRESS --> 10293801923809\n"
     ]
    }
   ],
   "source": [
    "if __name__ == \"__main__\":\n",
    "    main()"
   ]
  },
  {
   "cell_type": "code",
   "execution_count": null,
   "id": "4a0dbc7d",
   "metadata": {},
   "outputs": [],
   "source": []
  }
 ],
 "metadata": {
  "kernelspec": {
   "display_name": "Python 3",
   "language": "python",
   "name": "python3"
  },
  "language_info": {
   "codemirror_mode": {
    "name": "ipython",
    "version": 3
   },
   "file_extension": ".py",
   "mimetype": "text/x-python",
   "name": "python",
   "nbconvert_exporter": "python",
   "pygments_lexer": "ipython3",
   "version": "3.8.5"
  }
 },
 "nbformat": 4,
 "nbformat_minor": 5
}
