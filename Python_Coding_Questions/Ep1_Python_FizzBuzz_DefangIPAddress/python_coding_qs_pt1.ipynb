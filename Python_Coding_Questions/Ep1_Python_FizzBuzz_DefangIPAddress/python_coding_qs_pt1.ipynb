{
 "cells": [
  {
   "cell_type": "markdown",
   "id": "8701a5be",
   "metadata": {},
   "source": [
    "#### FizzBuzz\n",
    "\n",
    "This classic question is good practice for beginners and for all coders, yes it can be solved in other programming languages.\n",
    "\n",
    "Heres the problem:\n",
    "\n",
    "- *Given an integer* **n**, *return a string array result where:*\n",
    "    - *if* **n** *is divisible by 3 and 5, return FizzBuzz*\n",
    "    - *if* **n** *is divisble by 3, return Fizz*\n",
    "    - *if* **n** *is divisble by 5, return Buzz*\n",
    "    - *return* **n** *in any other case.*\n",
    "\n",
    "You should check for the FizzBuzz condition first, as it checks for multiple conditions. For example, the number 15 is divisible with both 3 and 5, so FizzBuzz should get printed. 15 is also divisible by 3 and 5 individually, and we don’t want Fizz or Buzz printed alone."
   ]
  },
  {
   "cell_type": "code",
   "execution_count": null,
   "id": "b0133716",
   "metadata": {},
   "outputs": [],
   "source": []
  },
  {
   "cell_type": "markdown",
   "id": "bda54e4a",
   "metadata": {},
   "source": [
    "#### Defang IP Address\n",
    "\n",
    "Here is the problem:\n",
    "- Problem description: Given a valid (IPv4) IP address, return its defanged version. A defanged IP address replaces every period . with [.].\n",
    "- A user's IP address is defanged to prevent the user from clicking on a malicious link. This type of problem is a very common coding interview question in Data Science.\n",
    "- Your localhost IP address is 127.0.0.1. The process of defanging basically surrounds all the dots with brackets.\n",
    "    - The end result is 127[.]0[.]0[.]1.\n",
    "    \n",
    "The approach for this problem is that we need to understand a few things:\n",
    "- We need to handle a list of IP Addresses, makes things easier\n",
    "- Understand that the IP address will be a string, so we need to do string manipulation\n",
    "- We need to cover the cases where the IP Address might not be valid\n",
    "- Return a list of defanged IP addresses or each one individually, this will based on what the interviewer wants.\n"
   ]
  },
  {
   "cell_type": "code",
   "execution_count": null,
   "id": "5709880d",
   "metadata": {},
   "outputs": [],
   "source": []
  }
 ],
 "metadata": {
  "kernelspec": {
   "display_name": "Python 3",
   "language": "python",
   "name": "python3"
  },
  "language_info": {
   "codemirror_mode": {
    "name": "ipython",
    "version": 3
   },
   "file_extension": ".py",
   "mimetype": "text/x-python",
   "name": "python",
   "nbconvert_exporter": "python",
   "pygments_lexer": "ipython3",
   "version": "3.8.5"
  }
 },
 "nbformat": 4,
 "nbformat_minor": 5
}
