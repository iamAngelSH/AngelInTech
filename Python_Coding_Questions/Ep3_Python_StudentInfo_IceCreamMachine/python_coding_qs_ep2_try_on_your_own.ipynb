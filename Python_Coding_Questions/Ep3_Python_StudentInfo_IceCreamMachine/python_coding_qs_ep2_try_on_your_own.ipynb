{
 "cells": [
  {
   "cell_type": "markdown",
   "id": "3e10d13d",
   "metadata": {},
   "source": [
    "# Python Coding Questions Ep. 3\n",
    "\n",
    "In this notebook we will be solving the following questions:\n",
    "- Student informaton\n",
    "- Icecream Machine Combination"
   ]
  },
  {
   "cell_type": "markdown",
   "id": "8e119fae",
   "metadata": {},
   "source": [
    "#### Student Information\n",
    "\n",
    "Given the following array:\n",
    "```python=\n",
    "students = [(\"Allen Anderson\", \"Computer Science\"),\n",
    "            (\"Edgar Einstein\", \"Engineering\"),\n",
    "            (\"Farrah Finn\", \"Fine Arts\")]\n",
    "```\n",
    "Implement the following functions:\n",
    "- `add_new_student(students, name, major)`\n",
    "    - Adds a new student to the current list of students\n",
    "- `update_student(student, index, name, major)`\n",
    "    - Update information of a student\n",
    "- `find_students_by_name(students, name)`\n",
    "    - Find a student in the list by name\n",
    "- `get_all_majors`\n",
    "    - Return a list of the majors of the students"
   ]
  },
  {
   "cell_type": "code",
   "execution_count": null,
   "id": "38f553dd",
   "metadata": {},
   "outputs": [],
   "source": []
  },
  {
   "cell_type": "markdown",
   "id": "77d1c90e",
   "metadata": {},
   "source": [
    "#### Ice cream Machine Combintation\n",
    "\n",
    "Given the following class, fill in the missing function to create all possible combinations of ice cream flavor and toppings.\n",
    "- Only one topping and one ice cream scoop allowed"
   ]
  },
  {
   "cell_type": "code",
   "execution_count": null,
   "id": "dd0245a2",
   "metadata": {},
   "outputs": [],
   "source": []
  }
 ],
 "metadata": {
  "kernelspec": {
   "display_name": "Python 3",
   "language": "python",
   "name": "python3"
  },
  "language_info": {
   "codemirror_mode": {
    "name": "ipython",
    "version": 3
   },
   "file_extension": ".py",
   "mimetype": "text/x-python",
   "name": "python",
   "nbconvert_exporter": "python",
   "pygments_lexer": "ipython3",
   "version": "3.8.5"
  }
 },
 "nbformat": 4,
 "nbformat_minor": 5
}
