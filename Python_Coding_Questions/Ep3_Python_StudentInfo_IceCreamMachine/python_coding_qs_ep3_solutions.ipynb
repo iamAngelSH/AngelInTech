{
 "cells": [
  {
   "cell_type": "markdown",
   "id": "95b8437b",
   "metadata": {},
   "source": [
    "# Python Coding Questions Ep. 3\n",
    "\n",
    "In this notebook we will be solving the following questions:\n",
    "- Student informaton\n",
    "- Icecream Machine Combination"
   ]
  },
  {
   "cell_type": "markdown",
   "id": "836c56e6",
   "metadata": {},
   "source": [
    "#### Student Information\n",
    "\n",
    "Given the following array:\n",
    "```python=\n",
    "students = [(\"Allen Anderson\", \"Computer Science\"),\n",
    "            (\"Edgar Einstein\", \"Engineering\"),\n",
    "            (\"Farrah Finn\", \"Fine Arts\")]\n",
    "```\n",
    "Implement the following functions:\n",
    "- `add_new_student(students, name, major)`\n",
    "    - Adds a new student to the current list of students\n",
    "- `update_student(student, index, name, major)`\n",
    "    - Update information of a student\n",
    "- `find_students_by_name(students, name)`\n",
    "    - Find a student in the list by name\n",
    "- `get_all_majors`\n",
    "    - Return a list of the majors of the students"
   ]
  },
  {
   "cell_type": "code",
   "execution_count": 16,
   "id": "e5453070",
   "metadata": {},
   "outputs": [],
   "source": [
    "def add_new_student(students, name, major):\n",
    "    students.append((name, major))\n",
    "    \n",
    "def update_student(students, index, name, major):\n",
    "    students[index] = name, major\n",
    "def find_students_by_name(students, name):\n",
    "    return [student for student in students if name in student[0]]\n",
    "def get_majors(studens):\n",
    "    return [student[1] for student in students]\n",
    "    return [value for key, value in students]"
   ]
  },
  {
   "cell_type": "code",
   "execution_count": 38,
   "id": "be2156fb",
   "metadata": {},
   "outputs": [],
   "source": [
    "def student_info():\n",
    "    students = [(\"Allen Anderson\", \"Computer Science\"),\n",
    "            (\"Edgar Einstein\", \"Engineering\"),\n",
    "            (\"Farrah Finn\", \"Fine Arts\")]\n",
    "    print(students) # NO CHNAGES\n",
    "    add_new_student(students, 'Angel', 'Computer Science')\n",
    "    print(students) # ADDED NEW STUDENT\n",
    "    update_student(students, 3, 'Angel Santana', 'Computer Science' )\n",
    "    print(students) # UPDATED STUDENT NAME\n",
    "    print(find_students_by_name(students, 'Angel')) # FIND STUDENT BY NAME\n",
    "    print(get_majors(students)) # GET ALL MAJORS\n",
    "    print()\n"
   ]
  },
  {
   "cell_type": "markdown",
   "id": "8b05b01b",
   "metadata": {},
   "source": [
    "#### Ice cream Machine Combintation\n",
    "\n",
    "Given the following class, fill in the missing function to create all possible combinations of ice cream flavor and toppings.\n",
    "- Only one topping and one ice cream scoop allowed"
   ]
  },
  {
   "cell_type": "code",
   "execution_count": 34,
   "id": "b114f93e",
   "metadata": {},
   "outputs": [],
   "source": [
    "class IceCreamMachine:\n",
    "    \n",
    "    def __init__(self, icecream_flavor, toppings):\n",
    "        self.flavor = icecream_flavor\n",
    "        self.top = toppings\n",
    "        \n",
    "    def scoops(self):\n",
    "        result = []\n",
    "        for f in self.flavor:\n",
    "            for t in self.top:\n",
    "                result.append([f, t])\n",
    "        return result\n"
   ]
  },
  {
   "cell_type": "code",
   "execution_count": 35,
   "id": "9daffd59",
   "metadata": {},
   "outputs": [],
   "source": [
    "def icecream_machine():\n",
    "    flavors = [\"vanilla\", \"chocolate\", 'coffee']\n",
    "    toppings =  [\"chocolate sauce\", \"strawberry sauce\", 'cookies']\n",
    "    icecream_combos = IceCreamMachine(flavors, toppings)\n",
    "    for i in icecream_combos.scoops():\n",
    "        print(i)"
   ]
  },
  {
   "cell_type": "code",
   "execution_count": 39,
   "id": "6c44ab03",
   "metadata": {},
   "outputs": [],
   "source": [
    "def main():\n",
    "    funcs = [student_info(), icecream_machine()]\n",
    "    for func in funcs:\n",
    "        func"
   ]
  },
  {
   "cell_type": "code",
   "execution_count": 40,
   "id": "416f85ae",
   "metadata": {
    "scrolled": true
   },
   "outputs": [
    {
     "name": "stdout",
     "output_type": "stream",
     "text": [
      "[('Allen Anderson', 'Computer Science'), ('Edgar Einstein', 'Engineering'), ('Farrah Finn', 'Fine Arts')]\n",
      "[('Allen Anderson', 'Computer Science'), ('Edgar Einstein', 'Engineering'), ('Farrah Finn', 'Fine Arts'), ('Angel', 'Computer Science')]\n",
      "[('Allen Anderson', 'Computer Science'), ('Edgar Einstein', 'Engineering'), ('Farrah Finn', 'Fine Arts'), ('Angel Santana', 'Computer Science')]\n",
      "[('Angel Santana', 'Computer Science')]\n",
      "['Computer Science', 'Engineering', 'Fine Arts', 'Computer Science']\n",
      "\n",
      "['vanilla', 'chocolate sauce']\n",
      "['vanilla', 'strawberry sauce']\n",
      "['vanilla', 'cookies']\n",
      "['chocolate', 'chocolate sauce']\n",
      "['chocolate', 'strawberry sauce']\n",
      "['chocolate', 'cookies']\n",
      "['coffee', 'chocolate sauce']\n",
      "['coffee', 'strawberry sauce']\n",
      "['coffee', 'cookies']\n"
     ]
    }
   ],
   "source": [
    "if __name__ == \"__main__\":\n",
    "    main()"
   ]
  },
  {
   "cell_type": "code",
   "execution_count": null,
   "id": "531dacba",
   "metadata": {},
   "outputs": [],
   "source": []
  }
 ],
 "metadata": {
  "kernelspec": {
   "display_name": "Python 3",
   "language": "python",
   "name": "python3"
  },
  "language_info": {
   "codemirror_mode": {
    "name": "ipython",
    "version": 3
   },
   "file_extension": ".py",
   "mimetype": "text/x-python",
   "name": "python",
   "nbconvert_exporter": "python",
   "pygments_lexer": "ipython3",
   "version": "3.8.5"
  }
 },
 "nbformat": 4,
 "nbformat_minor": 5
}
