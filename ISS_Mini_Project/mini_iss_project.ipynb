{
 "cells": [
  {
   "cell_type": "markdown",
   "id": "a55f8bf7",
   "metadata": {},
   "source": [
    "# Where is the ISS currently?\n",
    "\n",
    "In this mini python project I will show you how to use the `ISS API` to do the following:\n",
    "- Find the current people on board the ISS\n",
    "- Determine the location of the ISS\n",
    "\n",
    "We will be using the following endpoints:\n",
    "- http://api.open-notify.org/iss-now.json\n",
    "    - Current location of the ISS\n",
    "- http://api.open-notify.org/astros.json\n",
    "    - Current people on board the ISS"
   ]
  },
  {
   "cell_type": "code",
   "execution_count": 3,
   "id": "635a493e",
   "metadata": {},
   "outputs": [],
   "source": [
    "try:\n",
    "    import requests as rq\n",
    "    import json\n",
    "    from datetime import datetime as dt\n",
    "    import pandas as pd\n",
    "    from urllib import parse\n",
    "    ## print('[SUCCESSFULLY IMPORTED]')\n",
    "    ## return nothing for a succesful import\n",
    "except ImportError as ie:\n",
    "    print(f'Import Library Error: {ie}')\n",
    "    \n",
    "    #pip3 install --upgrade requests\n"
   ]
  },
  {
   "cell_type": "code",
   "execution_count": 1,
   "id": "f585569b",
   "metadata": {},
   "outputs": [],
   "source": [
    "class ISS:\n",
    "    def __init__(self):\n",
    "        # ------- SET ATTRIBUTES -------\n",
    "        #-------------------------------\n",
    "        pass\n",
    "        \n",
    "\n",
    "    # ------- SET METHODS -------\n",
    "    #----------------------------\n",
    "    def check_url_stat(self, url, params = ''):\n",
    "        pass\n",
    "    \n",
    "    def json_format(self, json_info):\n",
    "        pass\n",
    "    \n",
    "    def create_df_iss_astro_info(self):\n",
    "        pass\n",
    "        \n",
    "    def current_people(self):\n",
    "        pass\n",
    "    \n",
    "    def current_crafts(self):\n",
    "        pass\n",
    "    \n",
    "    def create_df_iss_loc_info(self):\n",
    "        pass\n",
    "        \n",
    "    def get_current_iss_loc(self):\n",
    "        pass\n",
    "\n",
    "    def get_iss_loc(self):\n",
    "        pass\n",
    "        "
   ]
  },
  {
   "cell_type": "code",
   "execution_count": 2,
   "id": "ecd7b349",
   "metadata": {
    "scrolled": false
   },
   "outputs": [
    {
     "name": "stdout",
     "output_type": "stream",
     "text": [
      "None\n",
      "None\n",
      "\n",
      "None\n",
      "\n",
      "None\n",
      "\n",
      "None\n",
      "\n",
      "None\n",
      "\n",
      "None\n"
     ]
    }
   ],
   "source": [
    "# Testing each function individually\n",
    "iss = ISS()\n",
    "\n",
    "# print(iss.check_url_stat('http://api.open-notify.org/astros.json'))\n",
    "print(iss.json_format(iss.check_url_stat('http://api.open-notify.org/astros.json')))\n",
    "print(iss.current_people())\n",
    "print()\n",
    "print(iss.current_crafts())\n",
    "print()\n",
    "print(iss.create_df_iss_astro_info())\n",
    "print()\n",
    "print(iss.create_df_iss_loc_info())\n",
    "print()\n",
    "print(iss.get_current_iss_loc())\n",
    "print()\n",
    "print(iss.get_iss_loc())"
   ]
  },
  {
   "cell_type": "code",
   "execution_count": 3,
   "id": "5f08346b",
   "metadata": {},
   "outputs": [],
   "source": [
    "def main():\n",
    "    iss = ISS()\n",
    "    print(iss.current_people())\n",
    "    print()\n",
    "    print(iss.current_crafts())\n",
    "    print()\n",
    "    print(iss.get_iss_loc())"
   ]
  },
  {
   "cell_type": "code",
   "execution_count": 4,
   "id": "95c478de",
   "metadata": {},
   "outputs": [
    {
     "name": "stdout",
     "output_type": "stream",
     "text": [
      "None\n",
      "\n",
      "None\n",
      "\n",
      "None\n"
     ]
    }
   ],
   "source": [
    "if __name__ == '__main__':\n",
    "    main()"
   ]
  },
  {
   "cell_type": "code",
   "execution_count": null,
   "id": "3b62962c",
   "metadata": {},
   "outputs": [],
   "source": []
  }
 ],
 "metadata": {
  "kernelspec": {
   "display_name": "Python 3",
   "language": "python",
   "name": "python3"
  },
  "language_info": {
   "codemirror_mode": {
    "name": "ipython",
    "version": 3
   },
   "file_extension": ".py",
   "mimetype": "text/x-python",
   "name": "python",
   "nbconvert_exporter": "python",
   "pygments_lexer": "ipython3",
   "version": "3.8.5"
  }
 },
 "nbformat": 4,
 "nbformat_minor": 5
}
