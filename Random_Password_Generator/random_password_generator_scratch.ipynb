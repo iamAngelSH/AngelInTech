{
 "cells": [
  {
   "cell_type": "markdown",
   "id": "d095eabb",
   "metadata": {},
   "source": [
    "Random Password Generator from Scratch DIY!\n",
    "---"
   ]
  },
  {
   "cell_type": "markdown",
   "id": "476a83b3",
   "metadata": {},
   "source": [
    "Here you can play around with what you learn in the tutorial. Feel free to copy and paste and test out different methods you might see that might make the program more efficient!\n",
    "\n",
    "\n",
    "Have Fun!"
   ]
  },
  {
   "cell_type": "code",
   "execution_count": 1,
   "id": "775a26e3",
   "metadata": {},
   "outputs": [],
   "source": [
    "# Import Libaries Here"
   ]
  },
  {
   "cell_type": "code",
   "execution_count": 2,
   "id": "8cb0f5f9",
   "metadata": {},
   "outputs": [],
   "source": [
    "# Implement Funciton Here"
   ]
  },
  {
   "cell_type": "code",
   "execution_count": 3,
   "id": "c7398b2f",
   "metadata": {},
   "outputs": [],
   "source": [
    "# Call your function here\n",
    "if __name__ == '__main__':\n",
    "    pass # delete this when you are done implementing and want to test"
   ]
  },
  {
   "cell_type": "markdown",
   "id": "4c96001f",
   "metadata": {},
   "source": [
    "Let me know how you do or if you do something different.\n",
    "Tag me on twitter @iamAngelSH or comment on the youtube video for this tutorial."
   ]
  }
 ],
 "metadata": {
  "kernelspec": {
   "display_name": "Python 3",
   "language": "python",
   "name": "python3"
  },
  "language_info": {
   "codemirror_mode": {
    "name": "ipython",
    "version": 3
   },
   "file_extension": ".py",
   "mimetype": "text/x-python",
   "name": "python",
   "nbconvert_exporter": "python",
   "pygments_lexer": "ipython3",
   "version": "3.8.5"
  }
 },
 "nbformat": 4,
 "nbformat_minor": 5
}
