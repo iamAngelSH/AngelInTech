{
 "cells": [
  {
   "cell_type": "markdown",
   "id": "d0790c8f",
   "metadata": {},
   "source": [
    "Random Password Generator Tutorial\n",
    "---"
   ]
  },
  {
   "cell_type": "markdown",
   "id": "299b7e7d",
   "metadata": {},
   "source": [
    "For this tutorial I will be using a jupyter notebook, there will be a link in the description that will allow you follow along and code from your web browser. Let's get started!\n",
    "\n",
    "For this random password generator, I will be using 2 python modules: random and string.\n",
    "\n",
    "Random will be used to create a random passowrd choosing different letters, numbers, and special characters.\n",
    "\n",
    "String will be used to access the ascii letters (upper and lower case), numbers, and punctuation (or special characters)."
   ]
  },
  {
   "cell_type": "markdown",
   "id": "b98735b4",
   "metadata": {},
   "source": [
    "Import Libraries"
   ]
  },
  {
   "cell_type": "code",
   "execution_count": 1,
   "id": "a12efef0",
   "metadata": {},
   "outputs": [
    {
     "name": "stdout",
     "output_type": "stream",
     "text": [
      "[SUCCESSFULLY IMPORTED]\n"
     ]
    }
   ],
   "source": [
    "try:\n",
    "    from random import (\n",
    "        choice\n",
    "    )\n",
    "    from string import (\n",
    "        ascii_letters, \n",
    "        digits, \n",
    "        punctuation\n",
    "    )\n",
    "    print('[SUCCESSFULLY IMPORTED]')\n",
    "    \n",
    "except ImportError as ei:\n",
    "    print(f'Import Library Error: {error}')"
   ]
  },
  {
   "cell_type": "markdown",
   "id": "b9e50013",
   "metadata": {},
   "source": [
    "This random password generator can be wrapped in a function called ran_pw_gen(pw_length)\n",
    "\n",
    "This function will take in 1 input of lenght. Length will be used to determine the length the user wants for a password. \n",
    "\n",
    "Using the functions we imported from our module string, we can create a vairable called all_chars that contain all the letters, digits, and special characters."
   ]
  },
  {
   "cell_type": "markdown",
   "id": "a1fa84ce",
   "metadata": {},
   "source": [
    "Implement Function ran_pw_gen()"
   ]
  },
  {
   "cell_type": "code",
   "execution_count": 4,
   "id": "773ee40b",
   "metadata": {},
   "outputs": [
    {
     "name": "stdout",
     "output_type": "stream",
     "text": [
      "abcdefghijklmnopqrstuvwxyzABCDEFGHIJKLMNOPQRSTUVWXYZ\n",
      "0123456789\n",
      "!\"#$%&'()*+,-./:;<=>?@[\\]^_`{|}~\n"
     ]
    }
   ],
   "source": [
    "print(ascii_letters)\n",
    "print(digits)\n",
    "print(punctuation)"
   ]
  },
  {
   "cell_type": "markdown",
   "id": "34370dc0",
   "metadata": {},
   "source": [
    "We can print these individually so you can see what they contain.\n",
    "print(ascii_letters, digits, punctuation)\n",
    "Ascii contains all letters uppder and lower case\n",
    "digits contains numbers between 0-9\n",
    "and punctuation holds all special characters"
   ]
  },
  {
   "cell_type": "markdown",
   "id": "110c8996",
   "metadata": {},
   "source": [
    "Next, we can use generator comprehension to return our random password. \n",
    "This is done using the .join built in string function in python, choice from our random module, and a for loop to count the length of our password.\n",
    "\n",
    "The way this reads is, we join an empty string, choosing random characters from our all chars value, with a length = to the password length."
   ]
  },
  {
   "cell_type": "code",
   "execution_count": 5,
   "id": "687a7ed2",
   "metadata": {},
   "outputs": [],
   "source": [
    "def ran_pw_gen(pw_length):\n",
    "    all_chars = ascii_letters + digits + punctuation\n",
    "    \n",
    "    return ''.join(choice(all_chars) for i in range(pw_length))\n",
    "    "
   ]
  },
  {
   "cell_type": "markdown",
   "id": "918f1932",
   "metadata": {},
   "source": [
    "Let's run this with a password length of 10: we get the following."
   ]
  },
  {
   "cell_type": "code",
   "execution_count": 52,
   "id": "f4af92a1",
   "metadata": {},
   "outputs": [
    {
     "data": {
      "text/plain": [
       "'XBH]]ifE}C'"
      ]
     },
     "execution_count": 52,
     "metadata": {},
     "output_type": "execute_result"
    }
   ],
   "source": [
    "ran_pw_gen(10)"
   ]
  },
  {
   "cell_type": "markdown",
   "id": "d8b5ee7f",
   "metadata": {},
   "source": [
    "Now to see how it works with different lengths, let's pass our program through a for loop of lengths 1 through 10.\n",
    "\n",
    "Here we can see different passwords at random each time we run this.\n",
    "\n",
    "Let's comment this out make it user friendly.\n",
    "\n",
    "We will wrap our user input and logic inside a while statement to handle some logical errors.\n",
    "\n",
    "Since we want the user to decide the length, let's create a user input for the length of the password and wrap it around the absolute built-in function in case someone wants to be sneaky and put in a length < 0. We then pass in the length to our function, print our the random password and break out of our while loop.\n",
    "\n",
    "However, to make sure we have an actual value, we will wrap this in try and except clause because if the user instead wants to put in YEET as the length, well, we don't want that! So if it happens, we will give them a warning and reloop. "
   ]
  },
  {
   "cell_type": "code",
   "execution_count": 54,
   "id": "94c66694",
   "metadata": {},
   "outputs": [
    {
     "name": "stdout",
     "output_type": "stream",
     "text": [
      "PW length of 1: Q\n",
      "PW length of 2: nf\n",
      "PW length of 3: viF\n",
      "PW length of 4: bwLP\n",
      "PW length of 5: V)!g;\n",
      "PW length of 6: k40P!H\n",
      "PW length of 7: @g(d!l&\n",
      "PW length of 8: B~l[gfXO\n",
      "PW length of 9: YHXz5#$@~\n",
      "PW length of 10: l{%0!?}!0M\n",
      "\n",
      "Enter Password length:\n",
      ">>10\n",
      "\n",
      "Your password of length 10 is:\n",
      "j[q__q5wlu\n"
     ]
    }
   ],
   "source": [
    "if __name__ == '__main__':\n",
    "    for dl in [i for i in range(1,11)]:\n",
    "        print(f'PW length of {dl}: {ran_pw_gen(dl)}')\n",
    "        \n",
    "    while True:\n",
    "        try:\n",
    "            user_length = abs(int(input('\\nEnter Password length:\\n>>')))\n",
    "            print(f'\\nYour password of length {user_length} is:\\n{ran_pw_gen(user_length)}')\n",
    "            break\n",
    "        except ValueError:\n",
    "            print('NOT A NUMBER')\n",
    "            continue"
   ]
  },
  {
   "cell_type": "markdown",
   "id": "f72751ac",
   "metadata": {},
   "source": [
    "<br>\n",
    "\n",
    "<br>\n",
    "\n",
    "\n",
    "- Follow me on Twitter @iamAngelSH\n",
    "- Follow me on Github @iamAngelSH\n",
    "- Connect with me on LinkedIn: Angel Santana Hernandez\n",
    "- Subscribe to me on YT: Angel In Tech"
   ]
  },
  {
   "cell_type": "markdown",
   "id": "e52713f4",
   "metadata": {},
   "source": [
    "```\n",
    "Copyright (c) 2022 Angel Santana or one of its affiliates.\n",
    "\n",
    "Permission is hereby granted, free of charge, to any person obtaining a copy\n",
    "of this software and associated documentation files (the \"Software\"), to deal\n",
    "in the Software without restriction, including without limitation the rights\n",
    "to use, copy, modify, merge, publish, distribute, sublicense, and/or sell\n",
    "copies of the Software, and to permit persons to whom the Software is\n",
    "furnished to do so, subject to the following conditions:\n",
    "\n",
    "The above copyright notice and this permission notice shall be included in all\n",
    "copies or substantial portions of the Software.\n",
    "\n",
    "THE SOFTWARE IS PROVIDED \"AS IS\", WITHOUT WARRANTY OF ANY KIND, EXPRESS OR\n",
    "IMPLIED, INCLUDING BUT NOT LIMITED TO THE WARRANTIES OF MERCHANTABILITY,\n",
    "FITNESS FOR A PARTICULAR PURPOSE AND NONINFRINGEMENT. IN NO EVENT SHALL THE\n",
    "AUTHORS OR COPYRIGHT HOLDERS BE LIABLE FOR ANY CLAIM, DAMAGES OR OTHER\n",
    "LIABILITY, WHETHER IN AN ACTION OF CONTRACT, TORT OR OTHERWISE, ARISING FROM,\n",
    "OUT OF OR IN CONNECTION WITH THE SOFTWARE OR THE USE OR OTHER DEALINGS IN THE\n",
    "SOFTWARE.\n",
    "```"
   ]
  },
  {
   "cell_type": "code",
   "execution_count": null,
   "id": "2f06ba8e",
   "metadata": {},
   "outputs": [],
   "source": []
  }
 ],
 "metadata": {
  "kernelspec": {
   "display_name": "Python 3",
   "language": "python",
   "name": "python3"
  },
  "language_info": {
   "codemirror_mode": {
    "name": "ipython",
    "version": 3
   },
   "file_extension": ".py",
   "mimetype": "text/x-python",
   "name": "python",
   "nbconvert_exporter": "python",
   "pygments_lexer": "ipython3",
   "version": "3.8.5"
  }
 },
 "nbformat": 4,
 "nbformat_minor": 5
}
