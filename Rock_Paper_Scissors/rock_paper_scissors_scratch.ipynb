{
 "cells": [
  {
   "cell_type": "code",
   "execution_count": 1,
   "id": "8e8efe1a",
   "metadata": {},
   "outputs": [],
   "source": [
    "# Import libraries here"
   ]
  },
  {
   "cell_type": "code",
   "execution_count": 5,
   "id": "76a1d12a",
   "metadata": {},
   "outputs": [],
   "source": [
    "# implement clear function here\n",
    "def clear():\n",
    "    pass"
   ]
  },
  {
   "cell_type": "code",
   "execution_count": 6,
   "id": "36208dbf",
   "metadata": {},
   "outputs": [],
   "source": [
    "# implement rps instructions here\n",
    "def rps_instructions():\n",
    "    pass"
   ]
  },
  {
   "cell_type": "code",
   "execution_count": 7,
   "id": "3c9ad48a",
   "metadata": {},
   "outputs": [],
   "source": [
    "# implement rps game logic here\n",
    "def rps():\n",
    "    pass"
   ]
  },
  {
   "cell_type": "code",
   "execution_count": 8,
   "id": "39293e56",
   "metadata": {},
   "outputs": [],
   "source": [
    "# implement game here in main\n",
    "if __name__ == '__main__':\n",
    "    pass"
   ]
  },
  {
   "cell_type": "markdown",
   "id": "6f018872",
   "metadata": {},
   "source": [
    "Let me know how you do or if you do something different.\n",
    "Tag me on twitter @iamAngelSH or comment on the youtube video for this tutorial."
   ]
  },
  {
   "cell_type": "code",
   "execution_count": null,
   "id": "2ee66c4e",
   "metadata": {},
   "outputs": [],
   "source": []
  }
 ],
 "metadata": {
  "kernelspec": {
   "display_name": "Python 3",
   "language": "python",
   "name": "python3"
  },
  "language_info": {
   "codemirror_mode": {
    "name": "ipython",
    "version": 3
   },
   "file_extension": ".py",
   "mimetype": "text/x-python",
   "name": "python",
   "nbconvert_exporter": "python",
   "pygments_lexer": "ipython3",
   "version": "3.8.5"
  }
 },
 "nbformat": 4,
 "nbformat_minor": 5
}
