{
 "cells": [
  {
   "cell_type": "markdown",
   "id": "9db5c09f",
   "metadata": {},
   "source": [
    "### Rock, Paper, Scissors Tutorial"
   ]
  },
  {
   "cell_type": "markdown",
   "id": "b72dc792",
   "metadata": {},
   "source": [
    "Import Libraries"
   ]
  },
  {
   "cell_type": "markdown",
   "id": "9022a023",
   "metadata": {},
   "source": [
    "So, the first order of business will be to import the libraries we will use for this project.\n",
    "We will be using time, os, and random.\n",
    "\n",
    "Time is used for dramatic effect when the computer is making a move or when the game is over.\n",
    "\n",
    "OS is used to determine the operating system that will also give cleaner effect on your terminals CLI.\n",
    "\n",
    "Lastly, random is used for generating random moves for the computer. \n",
    "\n",
    "Now that we have our libraries imported, lets work on creating our \"clear\" function, this will just make things more clean and neat when you run the program on your terminal.\n"
   ]
  },
  {
   "cell_type": "code",
   "execution_count": 1,
   "id": "ddaac3c5",
   "metadata": {},
   "outputs": [
    {
     "name": "stdout",
     "output_type": "stream",
     "text": [
      "[SUCCESSFULLY IMPORTED]\n"
     ]
    }
   ],
   "source": [
    "try:\n",
    "    from os import (name, system)\n",
    "    from time import (sleep)\n",
    "    from random import (randint)\n",
    "    \n",
    "    print('[SUCCESSFULLY IMPORTED]')\n",
    "except ImportError as ie:\n",
    "    print(f'Import Library Error: {ie}')"
   ]
  },
  {
   "cell_type": "markdown",
   "id": "20dbf959",
   "metadata": {},
   "source": [
    "Implement clear function"
   ]
  },
  {
   "cell_type": "code",
   "execution_count": 2,
   "id": "952b3305",
   "metadata": {},
   "outputs": [],
   "source": [
    "def clear():\n",
    "    if name == 'nt': # WINDOWS\n",
    "        system('cls')\n",
    "    \n",
    "    if name == 'posix': # MAC/Linux\n",
    "        system('clear')\n",
    "        "
   ]
  },
  {
   "cell_type": "markdown",
   "id": "6b34eebd",
   "metadata": {},
   "source": [
    "When we set name == nt or posix, we are checking if the Operating System is running Windows, Mac, or Linux. Depending on the OS, the function will run the command provided."
   ]
  },
  {
   "cell_type": "code",
   "execution_count": 3,
   "id": "4b8100fb",
   "metadata": {},
   "outputs": [],
   "source": [
    "clear() ## Won't do anything since we are running on jupyter notebook"
   ]
  },
  {
   "cell_type": "markdown",
   "id": "da04e37c",
   "metadata": {},
   "source": [
    "Implement Instructions (menu)"
   ]
  },
  {
   "cell_type": "markdown",
   "id": "fb88fea5",
   "metadata": {},
   "source": [
    "Next, we implement our menu function that will hold the instructions for the game, in case someone forgets how to play rock, paper, scissors"
   ]
  },
  {
   "cell_type": "code",
   "execution_count": 4,
   "id": "9c0249e9",
   "metadata": {},
   "outputs": [],
   "source": [
    "def rps_instructions():\n",
    "    print(\n",
    "        '''Instructions for RPS\n",
    "    \n",
    "    Rock BEATS Scissors\n",
    "    Scissors BEATS Paper\n",
    "    Paper BEATS Rock'''\n",
    "    )"
   ]
  },
  {
   "cell_type": "code",
   "execution_count": null,
   "id": "6b7e8faa",
   "metadata": {},
   "outputs": [],
   "source": [
    "rps_instructions() # This is the output of our rps insturctions function"
   ]
  },
  {
   "cell_type": "markdown",
   "id": "c7601f82",
   "metadata": {},
   "source": [
    "Now, we can implement our game logic into a function called RPS (which stands for rock, paper, scissors).\n",
    "\n",
    "We will first define our move dictionary. This is used to determine the moves for the computer based on a randomaly generated number. This can be in any order, I'll just do it as follows. \n",
    "\n",
    "Next, we create a win-loss table. This is a table based off of Game Theory and Set Theory that is used to understand your opponents (computers) move and your move to decide who wins. By doing this, you eliminate the need of more if/else statements. So lets create the win-loss table for Rock, Paper, Scissors \n",
    "\n",
    "Since we want to be able to play more than one game and be able to exit when we say, let's create a while loop and put our logic under this command.\n",
    "\n",
    "Let's create a small menu for the users to see what they can do. Next, let's get the user's input and convert the input to lowercase just to make things easier.\n",
    "\n",
    "Now depending on the users input, we have 6 different things to cover in  our logic flow. Help, Exit, Rock, Paper, Scissors, or Wrong Choice.\n",
    "\n",
    "So, if the user needs help, we call the clear function to give them a new \"screen\" and call the instructions function we made.\n",
    "\n",
    "If the user types 3, we call clear and break out of the game to exit.\n",
    "\n",
    "If the user input is rock, we set the player_move to 0\n",
    "if the user input is scissors, set the player_move to 2\n",
    "if the user input is paper, set the player_move to 1\n",
    "\n",
    "This is used to pass into our win loss table for RPS\n",
    "\n",
    "next, we have our last logical statement else, we pass in our clear function, with a print statement of wrong choice, and print out the instructions and continue.\n",
    "\n",
    "Now that we are user inputs, we can move on to work on the computers move. We will use our time libary and random libary.\n",
    "\n",
    "To make it suspenseful, we will use our sleep module from the time library to set the wait time for the next command for 2 seconds, you can change this, or eliminate it, but like I said, it adds suspense.\n",
    "\n",
    "Right after the 2 seconds, we set a computer move to a random value of 0, 1, or 2. This will be done with the randint module from random.\n",
    "Once the computer has a move, let's let the user see what the computer chose. We will pass in the computer move value to our moves dictionary from earlier.\n",
    "\n",
    "Now that we have our user move and computer move, we can pass our values into the win-loss table to determine who is the winner in Rock, Paper, Scissors.\n",
    "\n",
    "We can finish this off with a couple if/else statements "
   ]
  },
  {
   "cell_type": "code",
   "execution_count": 6,
   "id": "53c93825",
   "metadata": {},
   "outputs": [],
   "source": [
    "def rps():\n",
    "    \n",
    "    # Create Move Dictionary\n",
    "    moves_dict = {\n",
    "        0: 'rock',\n",
    "        1: 'paper',\n",
    "        2: 'scissors'\n",
    "    }\n",
    "    # Create win-loss table\n",
    "    RPS_WIN_TABLE = [\n",
    "        [-1, 1, 0],\n",
    "        [1, -1, 2],\n",
    "        [0, 2, -1]\n",
    "    ]\n",
    "    \n",
    "    while True:\n",
    "        print('''Menu:\n",
    "        Enter help for Instructions\n",
    "        Enter Rock, Paper, or Scissors to begin playing\n",
    "        Enter 3 to quit\n",
    "        \n",
    "        ''')\n",
    "        \n",
    "        \n",
    "        user_input = input('Enter your move >> ').lower()\n",
    "        \n",
    "        \n",
    "        if user_input == 'help':\n",
    "            clear()\n",
    "            rps_instructions()\n",
    "            continue\n",
    "        elif user_input == '3':\n",
    "            clear()\n",
    "            break\n",
    "        elif user_input == 'rock':\n",
    "            user_move = 0\n",
    "        elif user_input == 'paper':\n",
    "            user_move = 1\n",
    "        elif user_input == 'scissors':\n",
    "            user_move = 2\n",
    "        else:\n",
    "            clear()\n",
    "            print('WRONG CHOICE')\n",
    "            rps_instructions()\n",
    "            continue\n",
    "        \n",
    "        # Computer Moves\n",
    "        print('Computer making a move..')\n",
    "        print('.')\n",
    "        print('.')\n",
    "        sleep(2)\n",
    "        comp_move = randint(0, 2)\n",
    "        \n",
    "        print(f'Computer chose: {moves_dict[comp_move]}')\n",
    "        \n",
    "        # Decide Winner\n",
    "        RPS_WINNER = RPS_WIN_TABLE[user_move][comp_move]\n",
    "        \n",
    "        if user_move == RPS_WINNER:\n",
    "            print(f'{user_name} is the WINNER')\n",
    "        elif comp_move == RPS_WINNER:\n",
    "            print('COMPUTER is the WINNER')\n",
    "        else:\n",
    "            print('TIE GAME')\n",
    "        \n",
    "        \n",
    "        # For dramatic effect\n",
    "        print()\n",
    "        sleep(2)\n",
    "        clear()"
   ]
  },
  {
   "cell_type": "code",
   "execution_count": null,
   "id": "f4ec4dc1",
   "metadata": {},
   "outputs": [],
   "source": [
    "rps() # You can run this, and you will play the game!"
   ]
  },
  {
   "cell_type": "markdown",
   "id": "06c12657",
   "metadata": {},
   "source": [
    "Lastly, we can make our game run in the main function.\n",
    "Let's begin with asking user for name input.\n",
    "\n",
    "Next, as before, we want to be able to play multiple games and exit when we want, lets create a while loop\n",
    "and begin with creating a small menu for the user to know the options\n",
    "\n",
    "The user can press 1 to play RPS\n",
    "or 2 to quit\n",
    "\n",
    "We will ask the user in a try and except clause because we want to make sure that we handle the value error since we are asking for numerical inputs. We don't want someone to put in 69 and have our program break. \n",
    "\n",
    "If the user choice is 1, we call our game function\n",
    "else if user choice is 2, we quit the game\n",
    "anything other than that, we can shoot a print statement to remind the user to read the instructions carefully.\n",
    "\n",
    "Now we can test it and see if it runs succesfully and play it. "
   ]
  },
  {
   "cell_type": "markdown",
   "id": "948ceb3e",
   "metadata": {},
   "source": [
    "Implement Game"
   ]
  },
  {
   "cell_type": "code",
   "execution_count": null,
   "id": "d4a73833",
   "metadata": {},
   "outputs": [],
   "source": [
    "if __name__ == '__main__':\n",
    "    user_name = input('Enter your name\\n>>')\n",
    "    \n",
    "    while True:\n",
    "        print(\n",
    "            '''Let's PLAY!\n",
    "            Enter 1 to play Rock, Paper, Scissors\n",
    "            Enter 2 to quit\n",
    "            \n",
    "            \n",
    "        ''')\n",
    "        \n",
    "        try:\n",
    "            user_choice = int(input('Enter your choice:\\n>> '))\n",
    "        except ValueError:\n",
    "            clear()\n",
    "            print('WRONG CHOICE')\n",
    "            continue\n",
    "        \n",
    "        if user_choice == 1:\n",
    "            rps()\n",
    "        elif user_choice == 2:\n",
    "            clear()\n",
    "            print('Thanks for coming! Bye!')\n",
    "            break\n",
    "        else:\n",
    "            clear()\n",
    "            print('WRONG CHOICE. Read Instructions Carefully!')\n",
    "        "
   ]
  },
  {
   "cell_type": "markdown",
   "id": "3726830d",
   "metadata": {},
   "source": [
    "Resources to understand the win-loss table:\n",
    "- [Youtube Video by William Spaniel](https://www.youtube.com/watch?v=-1GDMXoMdaY)\n",
    "- [Tutorial in R post by dkmathstats](https://dk81.github.io/dkmathstats_site/rvisual-rockpaperscissors.html#table)"
   ]
  },
  {
   "cell_type": "markdown",
   "id": "3d7c9cf5",
   "metadata": {},
   "source": [
    "- Follow me on Twitter @iamAngelSH\n",
    "- Follow me on Github @iamAngelSH\n",
    "- Connect with me on LinkedIn: Angel Santana Hernandez\n",
    "- Subscribe to me on YT: Angel In Tech"
   ]
  },
  {
   "cell_type": "markdown",
   "id": "0a28e3af",
   "metadata": {},
   "source": [
    "```\n",
    "Copyright (c) 2022 Angel Santana or one of its affiliates.\n",
    "\n",
    "Permission is hereby granted, free of charge, to any person obtaining a copy\n",
    "of this software and associated documentation files (the \"Software\"), to deal\n",
    "in the Software without restriction, including without limitation the rights\n",
    "to use, copy, modify, merge, publish, distribute, sublicense, and/or sell\n",
    "copies of the Software, and to permit persons to whom the Software is\n",
    "furnished to do so, subject to the following conditions:\n",
    "\n",
    "The above copyright notice and this permission notice shall be included in all\n",
    "copies or substantial portions of the Software.\n",
    "\n",
    "THE SOFTWARE IS PROVIDED \"AS IS\", WITHOUT WARRANTY OF ANY KIND, EXPRESS OR\n",
    "IMPLIED, INCLUDING BUT NOT LIMITED TO THE WARRANTIES OF MERCHANTABILITY,\n",
    "FITNESS FOR A PARTICULAR PURPOSE AND NONINFRINGEMENT. IN NO EVENT SHALL THE\n",
    "AUTHORS OR COPYRIGHT HOLDERS BE LIABLE FOR ANY CLAIM, DAMAGES OR OTHER\n",
    "LIABILITY, WHETHER IN AN ACTION OF CONTRACT, TORT OR OTHERWISE, ARISING FROM,\n",
    "OUT OF OR IN CONNECTION WITH THE SOFTWARE OR THE USE OR OTHER DEALINGS IN THE\n",
    "SOFTWARE.\n",
    "```"
   ]
  },
  {
   "cell_type": "code",
   "execution_count": null,
   "id": "9f21f43a",
   "metadata": {},
   "outputs": [],
   "source": []
  }
 ],
 "metadata": {
  "kernelspec": {
   "display_name": "Python 3",
   "language": "python",
   "name": "python3"
  },
  "language_info": {
   "codemirror_mode": {
    "name": "ipython",
    "version": 3
   },
   "file_extension": ".py",
   "mimetype": "text/x-python",
   "name": "python",
   "nbconvert_exporter": "python",
   "pygments_lexer": "ipython3",
   "version": "3.8.5"
  }
 },
 "nbformat": 4,
 "nbformat_minor": 5
}
